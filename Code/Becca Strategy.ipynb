{
 "cells": [
  {
   "cell_type": "code",
   "execution_count": 1,
   "id": "5dcb0014-6923-4f01-87a2-8ebdacb62fd2",
   "metadata": {},
   "outputs": [
    {
     "ename": "ModuleNotFoundError",
     "evalue": "No module named 'hvplot'",
     "output_type": "error",
     "traceback": [
      "\u001b[1;31m---------------------------------------------------------------------------\u001b[0m",
      "\u001b[1;31mModuleNotFoundError\u001b[0m                       Traceback (most recent call last)",
      "\u001b[1;32mC:\\Users\\BECCAJ~1\\AppData\\Local\\Temp/ipykernel_13132/3443289329.py\u001b[0m in \u001b[0;36m<module>\u001b[1;34m\u001b[0m\n\u001b[0;32m      3\u001b[0m \u001b[1;32mimport\u001b[0m \u001b[0mpandas\u001b[0m \u001b[1;32mas\u001b[0m \u001b[0mpd\u001b[0m\u001b[1;33m\u001b[0m\u001b[1;33m\u001b[0m\u001b[0m\n\u001b[0;32m      4\u001b[0m \u001b[1;32mimport\u001b[0m \u001b[0mnumpy\u001b[0m \u001b[1;32mas\u001b[0m \u001b[0mnp\u001b[0m\u001b[1;33m\u001b[0m\u001b[1;33m\u001b[0m\u001b[0m\n\u001b[1;32m----> 5\u001b[1;33m \u001b[1;32mimport\u001b[0m \u001b[0mhvplot\u001b[0m\u001b[1;33m.\u001b[0m\u001b[0mpandas\u001b[0m\u001b[1;33m\u001b[0m\u001b[1;33m\u001b[0m\u001b[0m\n\u001b[0m\u001b[0;32m      6\u001b[0m \u001b[1;32mfrom\u001b[0m \u001b[0mpathlib\u001b[0m \u001b[1;32mimport\u001b[0m \u001b[0mPath\u001b[0m\u001b[1;33m\u001b[0m\u001b[1;33m\u001b[0m\u001b[0m\n\u001b[0;32m      7\u001b[0m \u001b[1;32mfrom\u001b[0m \u001b[0mdotenv\u001b[0m \u001b[1;32mimport\u001b[0m \u001b[0mload_dotenv\u001b[0m\u001b[1;33m\u001b[0m\u001b[1;33m\u001b[0m\u001b[0m\n",
      "\u001b[1;31mModuleNotFoundError\u001b[0m: No module named 'hvplot'"
     ]
    }
   ],
   "source": [
    "# Initial imports\n",
    "import os\n",
    "import pandas as pd\n",
    "import numpy as np\n",
    "import hvplot.pandas\n",
    "from pathlib import Path\n",
    "from dotenv import load_dotenv\n",
    "import alpaca_trade_api as tradeapi\n",
    "import warnings\n",
    "warnings.filterwarnings(\"ignore\")\n"
   ]
  },
  {
   "cell_type": "code",
   "execution_count": null,
   "id": "fd51964b-3728-46ff-ac8d-cdcabe4d1b7d",
   "metadata": {},
   "outputs": [],
   "source": [
    "# Load .env environment variables\n",
    "env_path = Path(\"./alpaca_keys.env\")\n",
    "load_dotenv(dotenv_path=env_path)"
   ]
  },
  {
   "cell_type": "code",
   "execution_count": null,
   "id": "d68233e1-e4b8-46d2-ae46-2959bb693f4f",
   "metadata": {},
   "outputs": [],
   "source": [
    "API_KEY = os.getenv(\"ALPACA_API_KEY\")\n",
    "API_SECRET = os.getenv(\"ALPACA_SECRET_KEY\")\n",
    "ALPACA_API_BASE_URL = \"https://paper-api.alpaca.markets\""
   ]
  },
  {
   "cell_type": "code",
   "execution_count": null,
   "id": "62156741-b4eb-42f7-af16-cf3f3bee30a3",
   "metadata": {},
   "outputs": [],
   "source": [
    "# Create a connection to the API \n",
    "alpaca = tradeapi.REST(\n",
    "    API_KEY,\n",
    "    API_SECRET,\n",
    "    ALPACA_API_BASE_URL,\n",
    "    api_version=\"v2\")"
   ]
  },
  {
   "cell_type": "code",
   "execution_count": null,
   "id": "7a77ce5a-41b8-4dc8-8646-e0cb088c94b3",
   "metadata": {},
   "outputs": [],
   "source": [
    "# Set the tickers\n",
    "eth_ticker = [\"ETHUSD\"]\n",
    "btc_ticker = [\"BTCUSD\"]"
   ]
  },
  {
   "cell_type": "code",
   "execution_count": null,
   "id": "e132a1f3-d5d6-4381-918e-40fa95cb2c57",
   "metadata": {},
   "outputs": [],
   "source": [
    "# Set the parameter tz to \"America/New_York\", \n",
    "\n",
    "start_date = pd.Timestamp(\"2016-06-08\", tz=\"America/New_York\").isoformat()\n",
    "end_date = pd.Timestamp(\"2022-02-08\", tz=\"America/New_York\").isoformat()"
   ]
  },
  {
   "cell_type": "code",
   "execution_count": null,
   "id": "15b2a91f-5d41-4a6c-a241-39548308eee1",
   "metadata": {},
   "outputs": [],
   "source": [
    "# Set timeframe to one day (1D) for the Alpaca API\n",
    "timeframe = \"1Day\""
   ]
  },
  {
   "cell_type": "code",
   "execution_count": null,
   "id": "ecdc440c-c686-47ae-a552-464c416dea0d",
   "metadata": {},
   "outputs": [],
   "source": [
    "# Use the Alpaca get_crypto_bars function to gather the price information for ETHEREUM\n",
    "\n",
    "eth_data_df = alpaca.get_crypto_bars(\n",
    "    eth_ticker,\n",
    "    timeframe,\n",
    "    start = start_date,\n",
    "    end = end_date,\n",
    "    exchanges = \"CBSE\"\n",
    ").df\n",
    "\n",
    "\n",
    "# Review the resulting `portfolio_prices_df` DataFrame. \n",
    "display(eth_data_df.head())"
   ]
  },
  {
   "cell_type": "code",
   "execution_count": null,
   "id": "a43290dd-2647-4543-9a10-abbf9f0ed72a",
   "metadata": {},
   "outputs": [],
   "source": [
    "# Calculate the daily returns using the closing prices and the pct_change function\n",
    "eth_data_df[\"actual returns\"] = eth_data_df[\"close\"].pct_change()\n",
    "\n",
    "# Drop all NaN values from the DataFrame\n",
    "eth_data_df = eth_data_df.dropna()"
   ]
  },
  {
   "cell_type": "code",
   "execution_count": null,
   "id": "b8dcbbeb-7dfa-4951-a119-2116e64122a8",
   "metadata": {},
   "outputs": [],
   "source": [
    "eth_prices_df = eth_data_df[['symbol', 'open', 'high', 'low', 'close', 'volume', 'actual returns']]\n",
    "display(eth_prices_df.head(10))\n",
    "display(eth_prices_df.tail(10))\n"
   ]
  },
  {
   "cell_type": "code",
   "execution_count": null,
   "id": "34b48402-0617-438b-ac0c-e5ab64e5968f",
   "metadata": {},
   "outputs": [],
   "source": [
    "eth_prices_df.index = eth_prices_df.index.date\n",
    "eth_prices_df"
   ]
  },
  {
   "cell_type": "code",
   "execution_count": null,
   "id": "dd27f0aa-2957-40d8-9ec4-b2c7f4e6c051",
   "metadata": {},
   "outputs": [],
   "source": [
    "# Use the Alpaca get_crypto_bars function to gather the price information for BITCOIN\n",
    "btc_data_df = alpaca.get_crypto_bars(\n",
    "    btc_ticker,\n",
    "    timeframe,\n",
    "    start = start_date,\n",
    "    end = end_date,\n",
    "    exchanges = \"CBSE\"\n",
    ").df\n",
    "\n",
    "display(btc_data_df.head())"
   ]
  },
  {
   "cell_type": "code",
   "execution_count": null,
   "id": "3bc91b13-a82a-4086-ba35-b3241493846c",
   "metadata": {},
   "outputs": [],
   "source": [
    "# Calculate the daily returns using the closing prices and the pct_change function\n",
    "btc_data_df[\"actual returns\"] = btc_data_df[\"close\"].pct_change()\n",
    "\n",
    "# Drop all NaN values from the DataFrame\n",
    "btc_data_df = btc_data_df.dropna()"
   ]
  },
  {
   "cell_type": "code",
   "execution_count": null,
   "id": "24e3deca-d8a9-4822-a6f1-fecb43487ee8",
   "metadata": {},
   "outputs": [],
   "source": [
    "btc_prices_df = btc_data_df[['symbol', 'open', 'high', 'low', 'close', 'volume', \"actual returns\"]]\n",
    "\n",
    "display(btc_prices_df.head(10))\n",
    "display(btc_prices_df.tail(10))"
   ]
  },
  {
   "cell_type": "code",
   "execution_count": null,
   "id": "397468b9-1735-4c2f-9718-25bd90b161c1",
   "metadata": {},
   "outputs": [],
   "source": [
    "btc_prices_df.index = btc_prices_df.index.date\n",
    "btc_prices_df"
   ]
  },
  {
   "cell_type": "code",
   "execution_count": null,
   "id": "02b82e57-f3cc-4927-984e-363071088de1",
   "metadata": {},
   "outputs": [],
   "source": [
    "## SMA_SVM Learning Method "
   ]
  },
  {
   "cell_type": "code",
   "execution_count": null,
   "id": "9cd29363-06bc-41ea-991a-d7da3420a479",
   "metadata": {},
   "outputs": [],
   "source": [
    "from sklearn import svm\n",
    "from sklearn.preprocessing import StandardScaler\n",
    "from sklearn.metrics import classification_report\n",
    "from sklearn import svm"
   ]
  },
  {
   "cell_type": "code",
   "execution_count": null,
   "id": "5eea85a8-4e59-4432-b241-9f032eea0949",
   "metadata": {},
   "outputs": [],
   "source": [
    "# Drop duplicate index values\n",
    "eth_prices_df = eth_prices_df.loc[~eth_prices_df.index.duplicated(), :]\n",
    "btc_prices_df = btc_prices_df.loc[~btc_prices_df.index.duplicated(), :]"
   ]
  },
  {
   "cell_type": "code",
   "execution_count": null,
   "id": "6a0a3fca-7710-46a4-aa98-b45d1a247ab2",
   "metadata": {},
   "outputs": [],
   "source": [
    "display(eth_prices_df.head(10))\n",
    "display(eth_prices_df.tail(10))"
   ]
  },
  {
   "cell_type": "code",
   "execution_count": null,
   "id": "cf56b85c-70d7-4b57-a94d-53827049a850",
   "metadata": {},
   "outputs": [],
   "source": [
    "display(btc_prices_df.head(10))\n",
    "display(btc_prices_df.tail(10))"
   ]
  },
  {
   "cell_type": "code",
   "execution_count": null,
   "id": "db7f871c-9f96-48d1-86d5-a1645a9b02d7",
   "metadata": {},
   "outputs": [],
   "source": [
    "##Trading DataFrame"
   ]
  },
  {
   "cell_type": "code",
   "execution_count": null,
   "id": "23b157f9-b4b9-43dc-b39a-b65644a9adbf",
   "metadata": {},
   "outputs": [],
   "source": [
    "# Creating trading DataFrames for both currencies\n",
    "eth_trading_df = eth_prices_df.loc[:,['close', 'actual returns']]\n",
    "btc_trading_df = btc_prices_df.loc[:,['close', 'actual returns']]"
   ]
  },
  {
   "cell_type": "code",
   "execution_count": null,
   "id": "9fa7b1d5-2c1b-4c5e-ab24-6775df88a51f",
   "metadata": {},
   "outputs": [],
   "source": [
    "# Rename Index to respective Currency\n",
    "eth_trading_df.index.names = ['ETH']\n",
    "btc_trading_df.index.names = ['BTC']"
   ]
  },
  {
   "cell_type": "code",
   "execution_count": null,
   "id": "ef8b8954-df9a-4b96-a865-a3e4a00f0100",
   "metadata": {},
   "outputs": [],
   "source": [
    "# Set the variables for short window and long window periods\n",
    "short_window = 200\n",
    "long_window = 400\n"
   ]
  },
  {
   "cell_type": "code",
   "execution_count": null,
   "id": "b0d0dd77-977f-4852-82b0-64dc9a071f31",
   "metadata": {},
   "outputs": [],
   "source": [
    "# Generate the short and long window simple moving averages (20 and 200 days, respectively)\n",
    "eth_trading_df[\"SMA200\"] = eth_trading_df[\"close\"].rolling(window=short_window).mean()\n",
    "eth_trading_df[\"SMA400\"] = eth_trading_df[\"close\"].rolling(window=long_window).mean()"
   ]
  },
  {
   "cell_type": "code",
   "execution_count": null,
   "id": "7b3e9159-146c-4125-8967-82b6f49c84e2",
   "metadata": {},
   "outputs": [],
   "source": [
    "# Generate the short and long window simple moving averages (10 and 20 days, respectively)\n",
    "btc_trading_df[\"SMA200\"] = btc_trading_df[\"close\"].rolling(window=short_window).mean()\n",
    "btc_trading_df[\"SMA400\"] = btc_trading_df[\"close\"].rolling(window=long_window).mean()"
   ]
  },
  {
   "cell_type": "code",
   "execution_count": null,
   "id": "1632f6aa-beb6-408e-a0e1-5d160c25cbfa",
   "metadata": {},
   "outputs": [],
   "source": [
    "# Drop null values in both DataFrames.\n",
    "eth_trading_df = eth_trading_df.dropna()\n",
    "btc_trading_df = btc_trading_df.dropna()"
   ]
  },
  {
   "cell_type": "code",
   "execution_count": null,
   "id": "293f48e0-421d-493d-9a11-24a39b2c108d",
   "metadata": {},
   "outputs": [],
   "source": [
    "# Create a new column in the `eth_trading_df` & 'btc_trading_df' called \"signal\" setting its value to zero.\n",
    "eth_trading_df['signal'] = 0.0\n",
    "btc_trading_df['signal'] = 0.0"
   ]
  },
  {
   "cell_type": "code",
   "execution_count": null,
   "id": "83f9a1a9-41c0-459d-b3fb-65de0a72c038",
   "metadata": {},
   "outputs": [],
   "source": [
    "display(eth_trading_df.head(10))\n",
    "display(btc_trading_df.head(10))\n",
    "\n"
   ]
  },
  {
   "cell_type": "code",
   "execution_count": null,
   "id": "d467551a-5762-49b0-8aa5-f72d53cf398f",
   "metadata": {},
   "outputs": [],
   "source": [
    "# Assign a copy of the `SMA10` and `SMA50` columns to a new DataFrame called `eth_X`\n",
    "eth_X = eth_trading_df[['SMA200', 'SMA400']].shift().dropna().copy()\n",
    "\n",
    "# Display sample data\n",
    "display(eth_X.head())\n",
    "display(eth_X.tail())\n"
   ]
  },
  {
   "cell_type": "code",
   "execution_count": null,
   "id": "a4c45512-fff7-4f62-9355-3a26a1f6d2a9",
   "metadata": {},
   "outputs": [],
   "source": [
    "# Assign a copy of the `SMA10` and `SMA50` columns to a new DataFrame called `btc_X`\n",
    "btc_X = btc_trading_df[['SMA200', 'SMA400']].shift().dropna().copy()\n",
    "\n",
    "# Display sample data\n",
    "display(btc_X.head())\n",
    "display(btc_X.tail())"
   ]
  },
  {
   "cell_type": "code",
   "execution_count": null,
   "id": "7d5a9122-d428-4f63-b1d8-234f9f01d813",
   "metadata": {},
   "outputs": [],
   "source": [
    "# Create Target Set; Buy & Sell Signals "
   ]
  },
  {
   "cell_type": "code",
   "execution_count": null,
   "id": "2c0fd9b3-0eee-44db-83b3-c2923423a845",
   "metadata": {},
   "outputs": [],
   "source": [
    "# Display sample data\n",
    "display(btc_trading_df.head())\n",
    "display(btc_trading_df.tail())"
   ]
  },
  {
   "cell_type": "code",
   "execution_count": null,
   "id": "3e2ce1c9-8004-434d-9833-ffc24a22d902",
   "metadata": {},
   "outputs": [],
   "source": [
    "# Create the signal to buy\n",
    "eth_trading_df.loc[(eth_trading_df['SMA200'] > eth_trading_df['SMA400']), 'signal'] = 1\n",
    "\n",
    "# Create the signal to sell\n",
    "eth_trading_df.loc[(eth_trading_df['SMA200'] < eth_trading_df['SMA400']), 'signal'] = -1"
   ]
  },
  {
   "cell_type": "code",
   "execution_count": null,
   "id": "bb15062d-876c-4390-b1c8-7103770c941a",
   "metadata": {},
   "outputs": [],
   "source": []
  },
  {
   "cell_type": "code",
   "execution_count": null,
   "id": "1f864089-f483-4859-bb02-c08285124040",
   "metadata": {},
   "outputs": [],
   "source": [
    "# Create the signal to buy\n",
    "btc_trading_df.loc[(btc_trading_df['SMA200'] > btc_trading_df['SMA400']), 'signal'] = 1\n",
    "\n",
    "# Create the signal to sell\n",
    "btc_trading_df.loc[(btc_trading_df['SMA200'] < btc_trading_df['SMA400']), 'signal'] = -1"
   ]
  },
  {
   "cell_type": "code",
   "execution_count": null,
   "id": "fba470f8-3f55-4de1-8c0b-4128a2a9ee7e",
   "metadata": {},
   "outputs": [],
   "source": [
    "# Display sample data\n",
    "display(btc_prices_df.head(20))\n",
    "display(btc_prices_df.tail())"
   ]
  },
  {
   "cell_type": "code",
   "execution_count": null,
   "id": "85aa76ec-7cbc-44fd-93a6-7f11c83dce82",
   "metadata": {},
   "outputs": [],
   "source": [
    "# Copy the new \"signal\" column to a new Series called `eth_y` & 'btc_y'.\n",
    "eth_y = eth_trading_df['signal'].copy()\n",
    "btc_y = btc_trading_df['signal'].copy()\n",
    "\n",
    "eth_y.head()"
   ]
  },
  {
   "cell_type": "code",
   "execution_count": null,
   "id": "33e28e2f-86ca-4622-a6ea-b45e0c78641c",
   "metadata": {},
   "outputs": [],
   "source": [
    "# Display sample data\n",
    "display(btc_trading_df.head())\n",
    "display(btc_trading_df.tail())"
   ]
  },
  {
   "cell_type": "code",
   "execution_count": null,
   "id": "7bdf3c7a-dc48-4765-804c-afe1da258870",
   "metadata": {},
   "outputs": [],
   "source": [
    "eth_trading_df.describe()\n"
   ]
  },
  {
   "cell_type": "code",
   "execution_count": null,
   "id": "bc3209b6-d4ef-44d5-90b9-855d4c1ad5a4",
   "metadata": {},
   "outputs": [],
   "source": [
    "btc_trading_df.describe()"
   ]
  },
  {
   "cell_type": "code",
   "execution_count": null,
   "id": "4d237546-07cb-4995-ba1e-6a107fb576ba",
   "metadata": {},
   "outputs": [],
   "source": [
    "##Create the Training and Testing Datasets"
   ]
  },
  {
   "cell_type": "code",
   "execution_count": null,
   "id": "6eecd5a3-2497-4ea9-a39d-4b0be0ff1d31",
   "metadata": {},
   "outputs": [],
   "source": [
    "from pandas.tseries.offsets import DateOffset"
   ]
  },
  {
   "cell_type": "markdown",
   "id": "dc6de502-1ce3-4b50-9f2c-ceccb5224b40",
   "metadata": {},
   "source": [
    "# Select the start of the training period\n",
    "eth_training_dates = eth_prices_df.loc[pd.to_datetime(\"2016-06-11\").date():training_enddate]\n",
    "eth_testing_dates = eth_prices_df.loc[testing_startdate:testing_enddate]\n",
    "\n",
    "# Display the training begin date\n",
    "display(eth_training_dates.head())\n",
    "display(eth_testing_dates.head())"
   ]
  },
  {
   "cell_type": "code",
   "execution_count": null,
   "id": "8ebf0bc4-118d-45c8-8f71-9556949a3e84",
   "metadata": {},
   "outputs": [],
   "source": [
    "training_startdate = pd.to_datetime(\"2017-07-14\").date()\n",
    "training_enddate = pd.to_datetime( \"2020-09-08\").date()\n",
    "testing_startdate = pd.to_datetime(\"2020-09-09\").date()\n",
    "testing_enddate = pd.to_datetime( \"2022-02-08\").date()"
   ]
  },
  {
   "cell_type": "code",
   "execution_count": null,
   "id": "4a871d2b-8212-4e43-92c3-8e9260cbe026",
   "metadata": {},
   "outputs": [],
   "source": [
    "# Generate the X_train and Y-train DataFrames\n",
    "eth_X_train= eth_X.loc[training_startdate:training_enddate]\n",
    "eth_y_train= eth_y.loc[training_startdate:training_enddate]\n",
    "\n",
    "# Generate the Y_train DataFrame\n",
    "btc_X_train= btc_X.loc[training_startdate:training_enddate]\n",
    "btc_y_train= btc_y.loc[pd.to_datetime(\"2017-07-14\").date():training_enddate]\n",
    "\n",
    "# Display sample data\n",
    "display(eth_X_train.head())\n",
    "\n",
    "display(btc_X_train.head())\n",
    "\n"
   ]
  },
  {
   "cell_type": "code",
   "execution_count": null,
   "id": "0c8d1940-c89c-4e35-aa0f-e7143861ff7c",
   "metadata": {},
   "outputs": [],
   "source": [
    "eth_X_train.describe()"
   ]
  },
  {
   "cell_type": "code",
   "execution_count": null,
   "id": "acafe00a-c5ed-498e-af8d-52b3c8074834",
   "metadata": {},
   "outputs": [],
   "source": [
    "eth_y_train.describe()"
   ]
  },
  {
   "cell_type": "code",
   "execution_count": null,
   "id": "017260fe-211f-4404-a90b-9a493ec272c3",
   "metadata": {},
   "outputs": [],
   "source": [
    "## Creating Testing Datasets"
   ]
  },
  {
   "cell_type": "code",
   "execution_count": null,
   "id": "9360cfd6-196f-402d-ae72-b08b34804176",
   "metadata": {},
   "outputs": [],
   "source": [
    "# Generate the X_test and y_test DataFrames for ETH & BTC\n",
    "eth_X_test = eth_X.loc[testing_startdate:testing_enddate]\n",
    "eth_y_test = eth_y.loc[testing_startdate:testing_enddate]\n",
    "\n",
    "btc_X_test = btc_X.loc[testing_startdate:testing_enddate]\n",
    "btc_y_test = btc_y.loc[testing_startdate:testing_enddate]\n",
    "\n",
    "\n",
    "# Display sample data\n",
    "eth_X_test.head()\n",
    "\n",
    "btc_X_test.head()\n"
   ]
  },
  {
   "cell_type": "code",
   "execution_count": null,
   "id": "7f133358-33de-4c2c-b219-d1bc922a5a2d",
   "metadata": {},
   "outputs": [],
   "source": [
    "## Standardize the Data"
   ]
  },
  {
   "cell_type": "code",
   "execution_count": null,
   "id": "1c0643b0-4ca9-4fab-9eba-fe5ccbcf52b6",
   "metadata": {},
   "outputs": [],
   "source": [
    "# Import the required module\n",
    "from sklearn.preprocessing import StandardScaler\n",
    "from sklearn import svm\n",
    "\n",
    "# Create a StandardScaler instance\n",
    "scaler = StandardScaler()"
   ]
  },
  {
   "cell_type": "code",
   "execution_count": null,
   "id": "87ee71d0-6c1f-445e-b23f-42ceb919ba69",
   "metadata": {},
   "outputs": [],
   "source": [
    "# Apply the scaler model to fit the ETH & BTC X_train data\n",
    "eth_X_scaler = scaler.fit(eth_X_train)\n",
    "btc_X_scaler = scaler.fit(btc_X_train)\n",
    "\n",
    "# Transform the ETH & BTC  X_train and X_test DataFrames using the X_scaler\n",
    "eth_X_train_scaled = eth_X_scaler.transform(eth_X_train)\n",
    "eth_X_test_scaled = eth_X_scaler.transform(eth_X_test)\n",
    "\n",
    "btc_X_train_scaled = btc_X_scaler.transform(btc_X_train)\n",
    "btc_X_test_scaled = btc_X_scaler.transform(btc_X_test)\n",
    "\n",
    "print(eth_y_train.describe())\n"
   ]
  },
  {
   "cell_type": "code",
   "execution_count": null,
   "id": "adb12a8e-bad4-41e0-8073-a58691685f22",
   "metadata": {},
   "outputs": [],
   "source": [
    "# Create the classifier model\n",
    "eth_svm_model = svm.SVC()\n",
    "btc_svm_model = svm.SVC()\n",
    "\n",
    "# Fit the model to the data using X_train_scaled and y_train\n",
    "eth_svm_model = eth_svm_model.fit(eth_X_train_scaled, eth_y_train)\n",
    "btc_svm_model = btc_svm_model.fit(btc_X_train_scaled, btc_y_train)\n",
    "\n",
    "# Use the trained model to predict the trading signals for the training data\n",
    "eth_training_signal_predictions = eth_svm_model.predict(eth_X_train_scaled)\n",
    "btc_training_signal_predictions = btc_svm_model.predict(btc_X_test_scaled)\n",
    "\n",
    "# Display the sample predictions\n",
    "display(eth_training_signal_predictions[:10])\n",
    "display(btc_training_signal_predictions[:10])"
   ]
  },
  {
   "cell_type": "code",
   "execution_count": null,
   "id": "21f52eae-d40f-41d8-9a8f-9d00bedf87fc",
   "metadata": {},
   "outputs": [],
   "source": [
    "np.min(eth_training_signal_predictions)\n"
   ]
  },
  {
   "cell_type": "code",
   "execution_count": null,
   "id": "426f2751-0a97-4cf4-b32d-f3bbf3e728b0",
   "metadata": {},
   "outputs": [],
   "source": [
    "## Classification Report "
   ]
  },
  {
   "cell_type": "code",
   "execution_count": null,
   "id": "85b0c056-826a-4c37-813d-7e9e3a859155",
   "metadata": {},
   "outputs": [],
   "source": [
    "eth_training_report = classification_report(eth_y_train, eth_training_signal_predictions)\n",
    "print(eth_training_report)"
   ]
  },
  {
   "cell_type": "code",
   "execution_count": null,
   "id": "8a5c91b6-fd86-4436-bbd1-8d49ea9a12f9",
   "metadata": {},
   "outputs": [],
   "source": [
    "## Backtesting"
   ]
  },
  {
   "cell_type": "code",
   "execution_count": null,
   "id": "f600fee4-cafd-497a-b7a0-b96580f666b1",
   "metadata": {},
   "outputs": [],
   "source": [
    "# Use the trained model to predict the trading signals for the testing data.\n",
    "eth_testing_signal_predictions = eth_svm_model.predict(eth_X_test_scaled)\n",
    "btc_testing_signal_predictions = btc_svm_model.predict(btc_X_test_scaled)"
   ]
  },
  {
   "cell_type": "code",
   "execution_count": null,
   "id": "9360d6d8-4285-4083-a94c-551035ba5084",
   "metadata": {},
   "outputs": [],
   "source": [
    "# Evaluate the model's ability to predict the trading signal for the testing data\n",
    "eth_testing_report = classification_report(eth_y_test, eth_testing_signal_predictions)\n",
    "print(eth_testing_report)\n",
    "\n",
    "btc_testing_report = classification_report(btc_y_test, btc_testing_signal_predictions)\n",
    "print(btc_testing_report)"
   ]
  },
  {
   "cell_type": "code",
   "execution_count": null,
   "id": "540c3be3-6ccc-482e-8157-d9d3e377db6c",
   "metadata": {},
   "outputs": [],
   "source": [
    "eth_y_test.describe()"
   ]
  },
  {
   "cell_type": "code",
   "execution_count": null,
   "id": "0043711b-36b6-49ac-9fb7-62ec92dd3ede",
   "metadata": {},
   "outputs": [],
   "source": [
    "## Compare Actual and Predicted Returns\n"
   ]
  },
  {
   "cell_type": "code",
   "execution_count": null,
   "id": "604f5c75-6296-412f-a94b-74cf1dc43cf8",
   "metadata": {},
   "outputs": [],
   "source": [
    "# Create a ETH predictions DataFrame\n",
    "eth_predictions_df = pd.DataFrame(index=eth_X_test.index)\n",
    "\n",
    "eth_predictions_df[\"predicted_signal\"] = eth_testing_signal_predictions\n",
    "\n",
    "eth_predictions_df[\"actual returns\"] = eth_trading_df[\"actual returns\"]\n",
    "\n",
    "eth_predictions_df[\"trading_algorithm_returns\"] = (\n",
    "    eth_predictions_df[\"actual returns\"] * eth_predictions_df[\"predicted_signal\"]\n",
    ")\n",
    "\n",
    "# Review the DataFrame\n",
    "eth_predictions_df.head()"
   ]
  },
  {
   "cell_type": "code",
   "execution_count": 3,
   "id": "621ccd5a-8e0e-4108-9e5d-912ee2a8fa47",
   "metadata": {},
   "outputs": [
    {
     "ename": "NameError",
     "evalue": "name 'btc_X_test' is not defined",
     "output_type": "error",
     "traceback": [
      "\u001b[1;31m---------------------------------------------------------------------------\u001b[0m",
      "\u001b[1;31mNameError\u001b[0m                                 Traceback (most recent call last)",
      "\u001b[1;32mC:\\Users\\BECCAJ~1\\AppData\\Local\\Temp/ipykernel_13132/511310250.py\u001b[0m in \u001b[0;36m<module>\u001b[1;34m\u001b[0m\n\u001b[0;32m      1\u001b[0m \u001b[1;31m# Create a BTC predictions DataFrame\u001b[0m\u001b[1;33m\u001b[0m\u001b[1;33m\u001b[0m\u001b[1;33m\u001b[0m\u001b[0m\n\u001b[1;32m----> 2\u001b[1;33m \u001b[0mbtc_predictions_df\u001b[0m \u001b[1;33m=\u001b[0m \u001b[0mpd\u001b[0m\u001b[1;33m.\u001b[0m\u001b[0mDataFrame\u001b[0m\u001b[1;33m(\u001b[0m\u001b[0mindex\u001b[0m\u001b[1;33m=\u001b[0m\u001b[0mbtc_X_test\u001b[0m\u001b[1;33m.\u001b[0m\u001b[0mindex\u001b[0m\u001b[1;33m)\u001b[0m\u001b[1;33m\u001b[0m\u001b[1;33m\u001b[0m\u001b[0m\n\u001b[0m\u001b[0;32m      3\u001b[0m \u001b[1;33m\u001b[0m\u001b[0m\n\u001b[0;32m      4\u001b[0m \u001b[0mbtc_predictions_df\u001b[0m\u001b[1;33m[\u001b[0m\u001b[1;34m\"predicted_signal\"\u001b[0m\u001b[1;33m]\u001b[0m \u001b[1;33m=\u001b[0m \u001b[0mbtc_testing_signal_predictions\u001b[0m\u001b[1;33m\u001b[0m\u001b[1;33m\u001b[0m\u001b[0m\n\u001b[0;32m      5\u001b[0m \u001b[1;33m\u001b[0m\u001b[0m\n",
      "\u001b[1;31mNameError\u001b[0m: name 'btc_X_test' is not defined"
     ]
    }
   ],
   "source": [
    "# Create a BTC predictions DataFrame\n",
    "btc_predictions_df = pd.DataFrame(index=btc_X_test.index)\n",
    "\n",
    "btc_predictions_df[\"predicted_signal\"] = btc_testing_signal_predictions\n",
    "\n",
    "btc_predictions_df[\"actual returns\"] = btc_trading_df[\"actual returns\"]\n",
    "\n",
    "btc_predictions_df[\"trading_algorithm_returns\"] = (\n",
    "    btc_predictions_df[\"actual returns\"] * btc_predictions_df[\"predicted_signal\"]\n",
    ")\n",
    "\n",
    "# Review the DataFrame\n",
    "btc_predictions_df.head()"
   ]
  },
  {
   "cell_type": "code",
   "execution_count": null,
   "id": "a9974410-bf1f-48c6-8556-a2281f6f7cd5",
   "metadata": {},
   "outputs": [],
   "source": [
    " ## Plot Cumulative Returns"
   ]
  },
  {
   "cell_type": "code",
   "execution_count": null,
   "id": "de6ee6e1-4461-4f8e-b7ae-6434f308fe49",
   "metadata": {},
   "outputs": [],
   "source": [
    "# Import \n",
    "import hvplot.pandas"
   ]
  },
  {
   "cell_type": "code",
   "execution_count": 65,
   "id": "86ef4ca7-b9a6-4b88-b8f0-850fec1b191e",
   "metadata": {},
   "outputs": [
    {
     "data": {},
     "metadata": {},
     "output_type": "display_data"
    },
    {
     "data": {
      "application/vnd.holoviews_exec.v0+json": "",
      "text/html": [
       "<div id='1002'>\n",
       "\n",
       "\n",
       "\n",
       "\n",
       "\n",
       "  <div class=\"bk-root\" id=\"52d45267-5908-4923-b429-18caf9057a6f\" data-root-id=\"1002\"></div>\n",
       "</div>\n",
       "<script type=\"application/javascript\">(function(root) {\n",
       "  function embed_document(root) {\n",
       "    var docs_json = {\"ea30cc11-d4ed-43c7-af1d-fca6e1d6d623\":{\"defs\":[{\"extends\":null,\"module\":null,\"name\":\"ReactiveHTML1\",\"overrides\":[],\"properties\":[]},{\"extends\":null,\"module\":null,\"name\":\"FlexBox1\",\"overrides\":[],\"properties\":[{\"default\":\"flex-start\",\"kind\":null,\"name\":\"align_content\"},{\"default\":\"flex-start\",\"kind\":null,\"name\":\"align_items\"},{\"default\":\"row\",\"kind\":null,\"name\":\"flex_direction\"},{\"default\":\"wrap\",\"kind\":null,\"name\":\"flex_wrap\"},{\"default\":\"flex-start\",\"kind\":null,\"name\":\"justify_content\"}]},{\"extends\":null,\"module\":null,\"name\":\"TemplateActions1\",\"overrides\":[],\"properties\":[{\"default\":0,\"kind\":null,\"name\":\"open_modal\"},{\"default\":0,\"kind\":null,\"name\":\"close_modal\"}]},{\"extends\":null,\"module\":null,\"name\":\"MaterialTemplateActions1\",\"overrides\":[],\"properties\":[{\"default\":0,\"kind\":null,\"name\":\"open_modal\"},{\"default\":0,\"kind\":null,\"name\":\"close_modal\"}]}],\"roots\":{\"references\":[{\"attributes\":{\"line_color\":\"#30a2da\",\"line_width\":2,\"x\":{\"field\":\"ETH\"},\"y\":{\"field\":\"value\"}},\"id\":\"1076\",\"type\":\"Line\"},{\"attributes\":{\"coordinates\":null,\"group\":null,\"text\":\"ETH\",\"text_color\":\"black\",\"text_font_size\":\"12pt\"},\"id\":\"1009\",\"type\":\"Title\"},{\"attributes\":{\"axis_label\":\"ETH\",\"coordinates\":null,\"formatter\":{\"id\":\"1039\"},\"group\":null,\"major_label_policy\":{\"id\":\"1040\"},\"ticker\":{\"id\":\"1018\"}},\"id\":\"1017\",\"type\":\"DatetimeAxis\"},{\"attributes\":{},\"id\":\"1039\",\"type\":\"DatetimeTickFormatter\"},{\"attributes\":{},\"id\":\"1078\",\"type\":\"Selection\"},{\"attributes\":{\"axis\":{\"id\":\"1017\"},\"coordinates\":null,\"grid_line_color\":null,\"group\":null,\"ticker\":null},\"id\":\"1020\",\"type\":\"Grid\"},{\"attributes\":{\"num_minor_ticks\":5,\"tickers\":[{\"id\":\"1062\"},{\"id\":\"1063\"},{\"id\":\"1064\"},{\"id\":\"1065\"},{\"id\":\"1066\"},{\"id\":\"1067\"},{\"id\":\"1068\"},{\"id\":\"1069\"},{\"id\":\"1070\"},{\"id\":\"1071\"},{\"id\":\"1072\"},{\"id\":\"1073\"}]},\"id\":\"1018\",\"type\":\"DatetimeTicker\"},{\"attributes\":{},\"id\":\"1022\",\"type\":\"BasicTicker\"},{\"attributes\":{},\"id\":\"1045\",\"type\":\"Selection\"},{\"attributes\":{\"tools\":[{\"id\":\"1006\"},{\"id\":\"1025\"},{\"id\":\"1026\"},{\"id\":\"1027\"},{\"id\":\"1028\"},{\"id\":\"1029\"}]},\"id\":\"1031\",\"type\":\"Toolbar\"},{\"attributes\":{\"axis_label\":\"\",\"coordinates\":null,\"formatter\":{\"id\":\"1042\"},\"group\":null,\"major_label_policy\":{\"id\":\"1043\"},\"ticker\":{\"id\":\"1022\"}},\"id\":\"1021\",\"type\":\"LinearAxis\"},{\"attributes\":{\"source\":{\"id\":\"1044\"}},\"id\":\"1051\",\"type\":\"CDSView\"},{\"attributes\":{\"data\":{\"ETH\":{\"__ndarray__\":\"AACAlwJHd0IAAED9VEd3QgAAAGOnR3dCAADAyPlHd0IAAIAuTEh3QgAAQJSeSHdCAAAA+vBId0IAAMBfQ0l3QgAAgMWVSXdCAABAK+hJd0IAAACROkp3QgAAwPaMSndCAACAXN9Kd0IAAEDCMUt3QgAAACiES3dCAADAjdZLd0IAAIDzKEx3QgAAQFl7THdCAAAAv81Md0IAAMAkIE13QgAAgIpyTXdCAABA8MRNd0IAAABWF053QgAAwLtpTndCAACAIbxOd0IAAECHDk93QgAAAO1gT3dCAADAUrNPd0IAAIC4BVB3QgAAQB5YUHdCAAAAhKpQd0IAAMDp/FB3QgAAgE9PUXdCAABAtaFRd0IAAAAb9FF3QgAAwIBGUndCAACA5phSd0IAAEBM61J3QgAAALI9U3dCAADAF5BTd0IAAIB94lN3QgAAQOM0VHdCAAAASYdUd0IAAMCu2VR3QgAAgBQsVXdCAABAen5Vd0IAAADg0FV3QgAAwEUjVndCAACAq3VWd0IAAEARyFZ3QgAAAHcaV3dCAADA3GxXd0IAAIBCv1d3QgAAQKgRWHdCAAAADmRYd0IAAMBztlh3QgAAgNkIWXdCAABAP1tZd0IAAAClrVl3QgAAwAoAWndCAACAcFJad0IAAEDWpFp3QgAAADz3WndCAADAoUlbd0IAAIAHnFt3QgAAQG3uW3dCAAAA00Bcd0IAAMA4k1x3QgAAgJ7lXHdCAABABDhdd0IAAABqil13QgAAwM/cXXdCAACANS9ed0IAAECbgV53QgAAAAHUXndCAADAZiZfd0IAAIDMeF93QgAAQDLLX3dCAAAAmB1gd0IAAMD9b2B3QgAAgGPCYHdCAABAyRRhd0IAAAAvZ2F3QgAAwJS5YXdCAACA+gtid0IAAEBgXmJ3QgAAAMawYndCAADAKwNjd0IAAICRVWN3QgAAQPenY3dCAAAAXfpjd0IAAMDCTGR3QgAAgCifZHdCAABAjvFkd0IAAAD0Q2V3QgAAwFmWZXdCAACAv+hld0IAAEAlO2Z3QgAAAIuNZndCAADA8N9md0IAAIBWMmd3QgAAQLyEZ3dCAAAAItdnd0IAAMCHKWh3QgAAgO17aHdCAABAU85od0IAAAC5IGl3QgAAwB5zaXdCAACAhMVpd0IAAEDqF2p3QgAAAFBqandCAADAtbxqd0IAAIAbD2t3QgAAQIFha3dCAAAA57Nrd0IAAMBMBmx3QgAAgLJYbHdCAABAGKtsd0IAAAB+/Wx3QgAAwONPbXdCAACASaJtd0IAAECv9G13QgAAABVHbndCAADAeplud0IAAIDg6253QgAAQEY+b3dCAAAArJBvd0IAAMAR4293QgAAgHc1cHdCAABA3Ydwd0IAAABD2nB3QgAAwKgscXdCAACADn9xd0IAAEB00XF3QgAAANojcndCAADAP3Zyd0IAAIClyHJ3QgAAQAsbc3dCAAAAcW1zd0IAAMDWv3N3QgAAgDwSdHdCAABAomR0d0IAAAAIt3R3QgAAwG0JdXdCAACA01t1d0IAAEA5rnV3QgAAAJ8AdndCAADABFN2d0IAAIBqpXZ3QgAAQND3dndCAAAANkp3d0IAAMCbnHd3QgAAgAHvd3dCAABAZ0F4d0IAAADNk3h3QgAAwDLmeHdCAACAmDh5d0IAAED+inl3QgAAAGTdeXdCAADAyS96d0IAAIAvgnp3QgAAQJXUendCAAAA+yZ7d0IAAMBgeXt3QgAAgMbLe3dCAABALB58d0IAAACScHx3QgAAwPfCfHdCAACAXRV9d0IAAEDDZ313QgAAACm6fXdCAADAjgx+d0IAAID0Xn53QgAAQFqxfndCAAAAwAN/d0IAAMAlVn93QgAAgIuof3dCAABA8fp/d0IAAABXTYB3QgAAwLyfgHdCAACAIvKAd0IAAECIRIF3QgAAAO6WgXdCAADAU+mBd0IAAIC5O4J3QgAAQB+OgndCAAAAheCCd0IAAMDqMoN3QgAAgFCFg3dCAABAtteDd0IAAAAcKoR3QgAAwIF8hHdCAACA586Ed0IAAEBNIYV3QgAAALNzhXdCAADAGMaFd0IAAIB+GIZ3QgAAQORqhndCAAAASr2Gd0IAAMCvD4d3QgAAgBVih3dCAABAe7SHd0IAAADhBoh3QgAAwEZZiHdCAACArKuId0IAAEAS/oh3QgAAAHhQiXdCAADA3aKJd0IAAIBD9Yl3QgAAQKlHindCAAAAD5qKd0IAAMB07Ip3QgAAgNo+i3dCAABAQJGLd0IAAACm44t3QgAAwAs2jHdCAACAcYiMd0IAAEDX2ox3QgAAAD0tjXdCAADAon+Nd0IAAIAI0o13QgAAQG4kjndCAAAA1HaOd0IAAMA5yY53QgAAgJ8bj3dCAABABW6Pd0IAAABrwI93QgAAwNASkHdCAACANmWQd0IAAECct5B3QgAAAAIKkXdCAADAZ1yRd0IAAIDNrpF3QgAAQDMBkndCAAAAmVOSd0IAAMD+pZJ3QgAAgGT4kndCAABAykqTd0IAAAAwnZN3QgAAwJXvk3dCAACA+0GUd0IAAEBhlJR3QgAAAMfmlHdCAADALDmVd0IAAICSi5V3QgAAQPjdlXdCAAAAXjCWd0IAAMDDgpZ3QgAAgCnVlndCAABAjyeXd0IAAAD1eZd3QgAAwFrMl3dCAACAwB6Yd0IAAEAmcZh3QgAAAIzDmHdCAADA8RWZd0IAAIBXaJl3QgAAQL26mXdCAAAAIw2ad0IAAMCIX5p3QgAAgO6xmndCAABAVASbd0IAAAC6Vpt3QgAAwB+pm3dCAACAhfubd0IAAEDrTZx3QgAAAFGgnHdCAADAtvKcd0IAAIAcRZ13QgAAQIKXnXdCAAAA6Omdd0IAAMBNPJ53QgAAgLOOnndCAABAGeGed0IAAAB/M593QgAAwOSFn3dCAACAStifd0IAAECwKqB3QgAAABZ9oHdCAADAe8+gd0IAAIDhIaF3QgAAQEd0oXdCAAAArcahd0IAAMASGaJ3QgAAgHhrondCAABA3r2id0IAAABEEKN3QgAAwKlio3dCAACAD7Wjd0IAAEB1B6R3QgAAANtZpHdCAADAQKykd0IAAICm/qR3QgAAQAxRpXdCAAAAcqOld0IAAMDX9aV3QgAAgD1IpndCAABAo5qmd0IAAAAJ7aZ3QgAAwG4/p3dCAACA1JGnd0IAAEA65Kd3QgAAAKA2qHdCAADABYmod0IAAIBr26h3QgAAQNEtqXdCAAAAN4Cpd0IAAMCc0ql3QgAAgAIlqndCAABAaHeqd0IAAADOyap3QgAAwDMcq3dCAACAmW6rd0IAAED/wKt3QgAAAGUTrHdCAADAymWsd0IAAIAwuKx3QgAAQJYKrXdCAAAA/Fytd0IAAMBhr613QgAAgMcBrndCAABALVSud0IAAACTpq53QgAAwPj4rndCAACAXkuvd0IAAEDEna93QgAAACrwr3dCAADAj0Kwd0IAAID1lLB3QgAAQFvnsHdCAAAAwTmxd0IAAMAmjLF3QgAAgIzesXdCAABA8jCyd0IAAABYg7J3QgAAwL3VsndCAACAIyizd0IAAECJerN3QgAAAO/Ms3dCAADAVB+0d0IAAIC6cbR3QgAAQCDEtHdCAAAAhha1d0IAAMDraLV3QgAAgFG7tXdCAABAtw22d0IAAAAdYLZ3QgAAwIKytndCAACA6AS3d0IAAEBOV7d3QgAAALSpt3dCAADAGfy3d0IAAIB/Trh3QgAAQOWguHdCAAAAS/O4d0IAAMCwRbl3QgAAgBaYuXdCAABAfOq5d0IAAADiPLp3QgAAwEePundCAACAreG6d0IAAEATNLt3QgAAAHmGu3dCAADA3ti7d0IAAIBEK7x3QgAAQKp9vHdCAAAAENC8d0IAAMB1Ir13QgAAgNt0vXdCAABAQce9d0IAAACnGb53QgAAwAxsvndCAACAcr6+d0IAAEDYEL93QgAAAD5jv3dCAADAo7W/d0IAAIAJCMB3QgAAQG9awHdCAAAA1azAd0IAAMA6/8B3QgAAgKBRwXdCAABABqTBd0IAAABs9sF3QgAAwNFIwndCAACAN5vCd0IAAECd7cJ3QgAAAANAw3dCAADAaJLDd0IAAIDO5MN3QgAAQDQ3xHdCAAAAmonEd0IAAMD/28R3QgAAgGUuxXdCAABAy4DFd0IAAAAx08V3QgAAwJYlxndCAACA/HfGd0IAAEBiysZ3QgAAAMgcx3dCAADALW/Hd0IAAICTwcd3QgAAQPkTyHdCAAAAX2bId0IAAMDEuMh3QgAAgCoLyXdCAABAkF3Jd0IAAAD2r8l3QgAAwFsCyndCAACAwVTKd0IAAEAnp8p3QgAAAI35yndCAADA8kvLd0IAAIBYnst3QgAAQL7wy3dCAAAAJEPMd0IAAMCJlcx3QgAAgO/nzHdCAABAVTrNd0IAAAC7jM13QgAAwCDfzXdCAACAhjHOd0IAAEDsg853QgAAAFLWzndCAADAtyjPd0IAAIAde893QgAAQIPNz3dCAAAA6R/Qd0IAAMBOctB3QgAAgLTE0HdCAABAGhfRd0IAAACAadF3QgAAwOW70XdCAACASw7Sd0IAAECxYNJ3QgAAABez0ndCAADAfAXTd0IAAIDiV9N3QgAAQEiq03dCAAAArvzTd0IAAMATT9R3QgAAgHmh1HdCAABA3/PUd0IAAABFRtV3QgAAwKqY1XdCAACAEOvVd0IAAEB2PdZ3QgAAANyP1ndCAADAQeLWd0IAAICnNNd3QgAAQA2H13dCAAAAc9nXd0IAAMDYK9h3QgAAgD5+2HdCAABApNDYd0IAAAAKI9l3QgAAwG912XdCAACA1cfZd0IAAEA7Gtp3QgAAAKFs2ndCAADABr/ad0IAAIBsEdt3QgAAQNJj23dCAAAAOLbbd0IAAMCdCNx3QgAAgANb3HdCAABAaa3cd0IAAADP/9x3QgAAwDRS3XdCAACAmqTdd0IAAEAA9913QgAAAGZJ3ndCAADAy5ved0IAAIAx7t53QgAAQJdA33dCAAAA/ZLfd0IAAMBi5d93QgAAgMg34HdCAABALorgd0IAAACU3OB3QgAAwPku4XdCAACAX4Hhd0IAAEDF0+F3QgAAACsm4ndCAADAkHjid0IAAID2yuJ3QgAAQFwd43dCAAAAwm/jd0IAAMAnwuN3QgAAgI0U5HdCAABA82bkd0IAAABZueR3QgAAwL4L5XdCAACAJF7ld0IAAECKsOV3QgAAAPAC5ndCAADAVVXmd0IAAIC7p+Z3QgAAQCH65ndCAAAAh0znd0IAAMDsnud3QgAAgFLx53dCAABAuEPod0IAAAAeluh3QgAAwIPo6HdCAACA6Trpd0IAAEBPjel3QgAAALXf6XdCAADAGjLqd0IAAICAhOp3QgAAQObW6ndCAAAATCnrd0IAAMCxe+t3QgAAgBfO63dCAABAfSDsd0IAAADjcux3QgAAwEjF7HdCAACArhftd0I=\",\"dtype\":\"float64\",\"order\":\"little\",\"shape\":[517]},\"Variable\":[\"trading_algorithm_returns\",\"trading_algorithm_returns\",\"trading_algorithm_returns\",\"trading_algorithm_returns\",\"trading_algorithm_returns\",\"trading_algorithm_returns\",\"trading_algorithm_returns\",\"trading_algorithm_returns\",\"trading_algorithm_returns\",\"trading_algorithm_returns\",\"trading_algorithm_returns\",\"trading_algorithm_returns\",\"trading_algorithm_returns\",\"trading_algorithm_returns\",\"trading_algorithm_returns\",\"trading_algorithm_returns\",\"trading_algorithm_returns\",\"trading_algorithm_returns\",\"trading_algorithm_returns\",\"trading_algorithm_returns\",\"trading_algorithm_returns\",\"trading_algorithm_returns\",\"trading_algorithm_returns\",\"trading_algorithm_returns\",\"trading_algorithm_returns\",\"trading_algorithm_returns\",\"trading_algorithm_returns\",\"trading_algorithm_returns\",\"trading_algorithm_returns\",\"trading_algorithm_returns\",\"trading_algorithm_returns\",\"trading_algorithm_returns\",\"trading_algorithm_returns\",\"trading_algorithm_returns\",\"trading_algorithm_returns\",\"trading_algorithm_returns\",\"trading_algorithm_returns\",\"trading_algorithm_returns\",\"trading_algorithm_returns\",\"trading_algorithm_returns\",\"trading_algorithm_returns\",\"trading_algorithm_returns\",\"trading_algorithm_returns\",\"trading_algorithm_returns\",\"trading_algorithm_returns\",\"trading_algorithm_returns\",\"trading_algorithm_returns\",\"trading_algorithm_returns\",\"trading_algorithm_returns\",\"trading_algorithm_returns\",\"trading_algorithm_returns\",\"trading_algorithm_returns\",\"trading_algorithm_returns\",\"trading_algorithm_returns\",\"trading_algorithm_returns\",\"trading_algorithm_returns\",\"trading_algorithm_returns\",\"trading_algorithm_returns\",\"trading_algorithm_returns\",\"trading_algorithm_returns\",\"trading_algorithm_returns\",\"trading_algorithm_returns\",\"trading_algorithm_returns\",\"trading_algorithm_returns\",\"trading_algorithm_returns\",\"trading_algorithm_returns\",\"trading_algorithm_returns\",\"trading_algorithm_returns\",\"trading_algorithm_returns\",\"trading_algorithm_returns\",\"trading_algorithm_returns\",\"trading_algorithm_returns\",\"trading_algorithm_returns\",\"trading_algorithm_returns\",\"trading_algorithm_returns\",\"trading_algorithm_returns\",\"trading_algorithm_returns\",\"trading_algorithm_returns\",\"trading_algorithm_returns\",\"trading_algorithm_returns\",\"trading_algorithm_returns\",\"trading_algorithm_returns\",\"trading_algorithm_returns\",\"trading_algorithm_returns\",\"trading_algorithm_returns\",\"trading_algorithm_returns\",\"trading_algorithm_returns\",\"trading_algorithm_returns\",\"trading_algorithm_returns\",\"trading_algorithm_returns\",\"trading_algorithm_returns\",\"trading_algorithm_returns\",\"trading_algorithm_returns\",\"trading_algorithm_returns\",\"trading_algorithm_returns\",\"trading_algorithm_returns\",\"trading_algorithm_returns\",\"trading_algorithm_returns\",\"trading_algorithm_returns\",\"trading_algorithm_returns\",\"trading_algorithm_returns\",\"trading_algorithm_returns\",\"trading_algorithm_returns\",\"trading_algorithm_returns\",\"trading_algorithm_returns\",\"trading_algorithm_returns\",\"trading_algorithm_returns\",\"trading_algorithm_returns\",\"trading_algorithm_returns\",\"trading_algorithm_returns\",\"trading_algorithm_returns\",\"trading_algorithm_returns\",\"trading_algorithm_returns\",\"trading_algorithm_returns\",\"trading_algorithm_returns\",\"trading_algorithm_returns\",\"trading_algorithm_returns\",\"trading_algorithm_returns\",\"trading_algorithm_returns\",\"trading_algorithm_returns\",\"trading_algorithm_returns\",\"trading_algorithm_returns\",\"trading_algorithm_returns\",\"trading_algorithm_returns\",\"trading_algorithm_returns\",\"trading_algorithm_returns\",\"trading_algorithm_returns\",\"trading_algorithm_returns\",\"trading_algorithm_returns\",\"trading_algorithm_returns\",\"trading_algorithm_returns\",\"trading_algorithm_returns\",\"trading_algorithm_returns\",\"trading_algorithm_returns\",\"trading_algorithm_returns\",\"trading_algorithm_returns\",\"trading_algorithm_returns\",\"trading_algorithm_returns\",\"trading_algorithm_returns\",\"trading_algorithm_returns\",\"trading_algorithm_returns\",\"trading_algorithm_returns\",\"trading_algorithm_returns\",\"trading_algorithm_returns\",\"trading_algorithm_returns\",\"trading_algorithm_returns\",\"trading_algorithm_returns\",\"trading_algorithm_returns\",\"trading_algorithm_returns\",\"trading_algorithm_returns\",\"trading_algorithm_returns\",\"trading_algorithm_returns\",\"trading_algorithm_returns\",\"trading_algorithm_returns\",\"trading_algorithm_returns\",\"trading_algorithm_returns\",\"trading_algorithm_returns\",\"trading_algorithm_returns\",\"trading_algorithm_returns\",\"trading_algorithm_returns\",\"trading_algorithm_returns\",\"trading_algorithm_returns\",\"trading_algorithm_returns\",\"trading_algorithm_returns\",\"trading_algorithm_returns\",\"trading_algorithm_returns\",\"trading_algorithm_returns\",\"trading_algorithm_returns\",\"trading_algorithm_returns\",\"trading_algorithm_returns\",\"trading_algorithm_returns\",\"trading_algorithm_returns\",\"trading_algorithm_returns\",\"trading_algorithm_returns\",\"trading_algorithm_returns\",\"trading_algorithm_returns\",\"trading_algorithm_returns\",\"trading_algorithm_returns\",\"trading_algorithm_returns\",\"trading_algorithm_returns\",\"trading_algorithm_returns\",\"trading_algorithm_returns\",\"trading_algorithm_returns\",\"trading_algorithm_returns\",\"trading_algorithm_returns\",\"trading_algorithm_returns\",\"trading_algorithm_returns\",\"trading_algorithm_returns\",\"trading_algorithm_returns\",\"trading_algorithm_returns\",\"trading_algorithm_returns\",\"trading_algorithm_returns\",\"trading_algorithm_returns\",\"trading_algorithm_returns\",\"trading_algorithm_returns\",\"trading_algorithm_returns\",\"trading_algorithm_returns\",\"trading_algorithm_returns\",\"trading_algorithm_returns\",\"trading_algorithm_returns\",\"trading_algorithm_returns\",\"trading_algorithm_returns\",\"trading_algorithm_returns\",\"trading_algorithm_returns\",\"trading_algorithm_returns\",\"trading_algorithm_returns\",\"trading_algorithm_returns\",\"trading_algorithm_returns\",\"trading_algorithm_returns\",\"trading_algorithm_returns\",\"trading_algorithm_returns\",\"trading_algorithm_returns\",\"trading_algorithm_returns\",\"trading_algorithm_returns\",\"trading_algorithm_returns\",\"trading_algorithm_returns\",\"trading_algorithm_returns\",\"trading_algorithm_returns\",\"trading_algorithm_returns\",\"trading_algorithm_returns\",\"trading_algorithm_returns\",\"trading_algorithm_returns\",\"trading_algorithm_returns\",\"trading_algorithm_returns\",\"trading_algorithm_returns\",\"trading_algorithm_returns\",\"trading_algorithm_returns\",\"trading_algorithm_returns\",\"trading_algorithm_returns\",\"trading_algorithm_returns\",\"trading_algorithm_returns\",\"trading_algorithm_returns\",\"trading_algorithm_returns\",\"trading_algorithm_returns\",\"trading_algorithm_returns\",\"trading_algorithm_returns\",\"trading_algorithm_returns\",\"trading_algorithm_returns\",\"trading_algorithm_returns\",\"trading_algorithm_returns\",\"trading_algorithm_returns\",\"trading_algorithm_returns\",\"trading_algorithm_returns\",\"trading_algorithm_returns\",\"trading_algorithm_returns\",\"trading_algorithm_returns\",\"trading_algorithm_returns\",\"trading_algorithm_returns\",\"trading_algorithm_returns\",\"trading_algorithm_returns\",\"trading_algorithm_returns\",\"trading_algorithm_returns\",\"trading_algorithm_returns\",\"trading_algorithm_returns\",\"trading_algorithm_returns\",\"trading_algorithm_returns\",\"trading_algorithm_returns\",\"trading_algorithm_returns\",\"trading_algorithm_returns\",\"trading_algorithm_returns\",\"trading_algorithm_returns\",\"trading_algorithm_returns\",\"trading_algorithm_returns\",\"trading_algorithm_returns\",\"trading_algorithm_returns\",\"trading_algorithm_returns\",\"trading_algorithm_returns\",\"trading_algorithm_returns\",\"trading_algorithm_returns\",\"trading_algorithm_returns\",\"trading_algorithm_returns\",\"trading_algorithm_returns\",\"trading_algorithm_returns\",\"trading_algorithm_returns\",\"trading_algorithm_returns\",\"trading_algorithm_returns\",\"trading_algorithm_returns\",\"trading_algorithm_returns\",\"trading_algorithm_returns\",\"trading_algorithm_returns\",\"trading_algorithm_returns\",\"trading_algorithm_returns\",\"trading_algorithm_returns\",\"trading_algorithm_returns\",\"trading_algorithm_returns\",\"trading_algorithm_returns\",\"trading_algorithm_returns\",\"trading_algorithm_returns\",\"trading_algorithm_returns\",\"trading_algorithm_returns\",\"trading_algorithm_returns\",\"trading_algorithm_returns\",\"trading_algorithm_returns\",\"trading_algorithm_returns\",\"trading_algorithm_returns\",\"trading_algorithm_returns\",\"trading_algorithm_returns\",\"trading_algorithm_returns\",\"trading_algorithm_returns\",\"trading_algorithm_returns\",\"trading_algorithm_returns\",\"trading_algorithm_returns\",\"trading_algorithm_returns\",\"trading_algorithm_returns\",\"trading_algorithm_returns\",\"trading_algorithm_returns\",\"trading_algorithm_returns\",\"trading_algorithm_returns\",\"trading_algorithm_returns\",\"trading_algorithm_returns\",\"trading_algorithm_returns\",\"trading_algorithm_returns\",\"trading_algorithm_returns\",\"trading_algorithm_returns\",\"trading_algorithm_returns\",\"trading_algorithm_returns\",\"trading_algorithm_returns\",\"trading_algorithm_returns\",\"trading_algorithm_returns\",\"trading_algorithm_returns\",\"trading_algorithm_returns\",\"trading_algorithm_returns\",\"trading_algorithm_returns\",\"trading_algorithm_returns\",\"trading_algorithm_returns\",\"trading_algorithm_returns\",\"trading_algorithm_returns\",\"trading_algorithm_returns\",\"trading_algorithm_returns\",\"trading_algorithm_returns\",\"trading_algorithm_returns\",\"trading_algorithm_returns\",\"trading_algorithm_returns\",\"trading_algorithm_returns\",\"trading_algorithm_returns\",\"trading_algorithm_returns\",\"trading_algorithm_returns\",\"trading_algorithm_returns\",\"trading_algorithm_returns\",\"trading_algorithm_returns\",\"trading_algorithm_returns\",\"trading_algorithm_returns\",\"trading_algorithm_returns\",\"trading_algorithm_returns\",\"trading_algorithm_returns\",\"trading_algorithm_returns\",\"trading_algorithm_returns\",\"trading_algorithm_returns\",\"trading_algorithm_returns\",\"trading_algorithm_returns\",\"trading_algorithm_returns\",\"trading_algorithm_returns\",\"trading_algorithm_returns\",\"trading_algorithm_returns\",\"trading_algorithm_returns\",\"trading_algorithm_returns\",\"trading_algorithm_returns\",\"trading_algorithm_returns\",\"trading_algorithm_returns\",\"trading_algorithm_returns\",\"trading_algorithm_returns\",\"trading_algorithm_returns\",\"trading_algorithm_returns\",\"trading_algorithm_returns\",\"trading_algorithm_returns\",\"trading_algorithm_returns\",\"trading_algorithm_returns\",\"trading_algorithm_returns\",\"trading_algorithm_returns\",\"trading_algorithm_returns\",\"trading_algorithm_returns\",\"trading_algorithm_returns\",\"trading_algorithm_returns\",\"trading_algorithm_returns\",\"trading_algorithm_returns\",\"trading_algorithm_returns\",\"trading_algorithm_returns\",\"trading_algorithm_returns\",\"trading_algorithm_returns\",\"trading_algorithm_returns\",\"trading_algorithm_returns\",\"trading_algorithm_returns\",\"trading_algorithm_returns\",\"trading_algorithm_returns\",\"trading_algorithm_returns\",\"trading_algorithm_returns\",\"trading_algorithm_returns\",\"trading_algorithm_returns\",\"trading_algorithm_returns\",\"trading_algorithm_returns\",\"trading_algorithm_returns\",\"trading_algorithm_returns\",\"trading_algorithm_returns\",\"trading_algorithm_returns\",\"trading_algorithm_returns\",\"trading_algorithm_returns\",\"trading_algorithm_returns\",\"trading_algorithm_returns\",\"trading_algorithm_returns\",\"trading_algorithm_returns\",\"trading_algorithm_returns\",\"trading_algorithm_returns\",\"trading_algorithm_returns\",\"trading_algorithm_returns\",\"trading_algorithm_returns\",\"trading_algorithm_returns\",\"trading_algorithm_returns\",\"trading_algorithm_returns\",\"trading_algorithm_returns\",\"trading_algorithm_returns\",\"trading_algorithm_returns\",\"trading_algorithm_returns\",\"trading_algorithm_returns\",\"trading_algorithm_returns\",\"trading_algorithm_returns\",\"trading_algorithm_returns\",\"trading_algorithm_returns\",\"trading_algorithm_returns\",\"trading_algorithm_returns\",\"trading_algorithm_returns\",\"trading_algorithm_returns\",\"trading_algorithm_returns\",\"trading_algorithm_returns\",\"trading_algorithm_returns\",\"trading_algorithm_returns\",\"trading_algorithm_returns\",\"trading_algorithm_returns\",\"trading_algorithm_returns\",\"trading_algorithm_returns\",\"trading_algorithm_returns\",\"trading_algorithm_returns\",\"trading_algorithm_returns\",\"trading_algorithm_returns\",\"trading_algorithm_returns\",\"trading_algorithm_returns\",\"trading_algorithm_returns\",\"trading_algorithm_returns\",\"trading_algorithm_returns\",\"trading_algorithm_returns\",\"trading_algorithm_returns\",\"trading_algorithm_returns\",\"trading_algorithm_returns\",\"trading_algorithm_returns\",\"trading_algorithm_returns\",\"trading_algorithm_returns\",\"trading_algorithm_returns\",\"trading_algorithm_returns\",\"trading_algorithm_returns\",\"trading_algorithm_returns\",\"trading_algorithm_returns\",\"trading_algorithm_returns\",\"trading_algorithm_returns\",\"trading_algorithm_returns\",\"trading_algorithm_returns\",\"trading_algorithm_returns\",\"trading_algorithm_returns\",\"trading_algorithm_returns\",\"trading_algorithm_returns\",\"trading_algorithm_returns\",\"trading_algorithm_returns\",\"trading_algorithm_returns\",\"trading_algorithm_returns\",\"trading_algorithm_returns\",\"trading_algorithm_returns\",\"trading_algorithm_returns\",\"trading_algorithm_returns\",\"trading_algorithm_returns\",\"trading_algorithm_returns\",\"trading_algorithm_returns\",\"trading_algorithm_returns\",\"trading_algorithm_returns\",\"trading_algorithm_returns\",\"trading_algorithm_returns\",\"trading_algorithm_returns\",\"trading_algorithm_returns\",\"trading_algorithm_returns\",\"trading_algorithm_returns\",\"trading_algorithm_returns\",\"trading_algorithm_returns\",\"trading_algorithm_returns\",\"trading_algorithm_returns\",\"trading_algorithm_returns\",\"trading_algorithm_returns\",\"trading_algorithm_returns\",\"trading_algorithm_returns\",\"trading_algorithm_returns\",\"trading_algorithm_returns\",\"trading_algorithm_returns\",\"trading_algorithm_returns\",\"trading_algorithm_returns\",\"trading_algorithm_returns\",\"trading_algorithm_returns\",\"trading_algorithm_returns\",\"trading_algorithm_returns\",\"trading_algorithm_returns\",\"trading_algorithm_returns\",\"trading_algorithm_returns\",\"trading_algorithm_returns\",\"trading_algorithm_returns\",\"trading_algorithm_returns\",\"trading_algorithm_returns\",\"trading_algorithm_returns\",\"trading_algorithm_returns\",\"trading_algorithm_returns\",\"trading_algorithm_returns\",\"trading_algorithm_returns\",\"trading_algorithm_returns\",\"trading_algorithm_returns\",\"trading_algorithm_returns\",\"trading_algorithm_returns\",\"trading_algorithm_returns\",\"trading_algorithm_returns\",\"trading_algorithm_returns\",\"trading_algorithm_returns\",\"trading_algorithm_returns\",\"trading_algorithm_returns\",\"trading_algorithm_returns\"],\"value\":{\"__ndarray__\":\"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\",\"dtype\":\"float64\",\"order\":\"little\",\"shape\":[517]}},\"selected\":{\"id\":\"1078\"},\"selection_policy\":{\"id\":\"1094\"}},\"id\":\"1077\",\"type\":\"ColumnDataSource\"},{\"attributes\":{\"mantissas\":[1,2,5],\"max_interval\":500.0,\"num_minor_ticks\":0},\"id\":\"1062\",\"type\":\"AdaptiveTicker\"},{\"attributes\":{},\"id\":\"1026\",\"type\":\"PanTool\"},{\"attributes\":{\"line_alpha\":0.1,\"line_color\":\"#fc4f30\",\"line_width\":2,\"x\":{\"field\":\"ETH\"},\"y\":{\"field\":\"value\"}},\"id\":\"1081\",\"type\":\"Line\"},{\"attributes\":{\"base\":60,\"mantissas\":[1,2,5,10,15,20,30],\"max_interval\":1800000.0,\"min_interval\":1000.0,\"num_minor_ticks\":0},\"id\":\"1063\",\"type\":\"AdaptiveTicker\"},{\"attributes\":{\"end\":1644192000000.0,\"reset_end\":1644192000000.0,\"reset_start\":1599609600000.0,\"start\":1599609600000.0,\"tags\":[[[\"ETH\",\"ETH\",null]]]},\"id\":\"1004\",\"type\":\"Range1d\"},{\"attributes\":{\"axis\":{\"id\":\"1021\"},\"coordinates\":null,\"dimension\":1,\"grid_line_color\":null,\"group\":null,\"ticker\":null},\"id\":\"1024\",\"type\":\"Grid\"},{\"attributes\":{\"line_color\":\"#fc4f30\",\"line_width\":2,\"x\":{\"field\":\"ETH\"},\"y\":{\"field\":\"value\"}},\"id\":\"1110\",\"type\":\"Line\"},{\"attributes\":{\"source\":{\"id\":\"1077\"}},\"id\":\"1084\",\"type\":\"CDSView\"},{\"attributes\":{\"days\":[1,2,3,4,5,6,7,8,9,10,11,12,13,14,15,16,17,18,19,20,21,22,23,24,25,26,27,28,29,30,31]},\"id\":\"1065\",\"type\":\"DaysTicker\"},{\"attributes\":{},\"id\":\"1094\",\"type\":\"UnionRenderers\"},{\"attributes\":{\"base\":24,\"mantissas\":[1,2,4,6,8,12],\"max_interval\":43200000.0,\"min_interval\":3600000.0,\"num_minor_ticks\":0},\"id\":\"1064\",\"type\":\"AdaptiveTicker\"},{\"attributes\":{},\"id\":\"1040\",\"type\":\"AllLabels\"},{\"attributes\":{\"months\":[0,1,2,3,4,5,6,7,8,9,10,11]},\"id\":\"1069\",\"type\":\"MonthsTicker\"},{\"attributes\":{},\"id\":\"1027\",\"type\":\"WheelZoomTool\"},{\"attributes\":{},\"id\":\"1015\",\"type\":\"LinearScale\"},{\"attributes\":{\"line_color\":\"#fc4f30\",\"line_width\":2,\"x\":{\"field\":\"ETH\"},\"y\":{\"field\":\"value\"}},\"id\":\"1080\",\"type\":\"Line\"},{\"attributes\":{},\"id\":\"1025\",\"type\":\"SaveTool\"},{\"attributes\":{\"line_alpha\":0.2,\"line_color\":\"#fc4f30\",\"line_width\":2,\"x\":{\"field\":\"ETH\"},\"y\":{\"field\":\"value\"}},\"id\":\"1082\",\"type\":\"Line\"},{\"attributes\":{\"days\":[1,4,7,10,13,16,19,22,25,28]},\"id\":\"1066\",\"type\":\"DaysTicker\"},{\"attributes\":{\"months\":[0,2,4,6,8,10]},\"id\":\"1070\",\"type\":\"MonthsTicker\"},{\"attributes\":{\"days\":[1,15]},\"id\":\"1068\",\"type\":\"DaysTicker\"},{\"attributes\":{\"overlay\":{\"id\":\"1030\"}},\"id\":\"1028\",\"type\":\"BoxZoomTool\"},{\"attributes\":{\"months\":[0,6]},\"id\":\"1072\",\"type\":\"MonthsTicker\"},{\"attributes\":{},\"id\":\"1029\",\"type\":\"ResetTool\"},{\"attributes\":{\"days\":[1,8,15,22]},\"id\":\"1067\",\"type\":\"DaysTicker\"},{\"attributes\":{},\"id\":\"1073\",\"type\":\"YearsTicker\"},{\"attributes\":{\"bottom_units\":\"screen\",\"coordinates\":null,\"fill_alpha\":0.5,\"fill_color\":\"lightgrey\",\"group\":null,\"left_units\":\"screen\",\"level\":\"overlay\",\"line_alpha\":1.0,\"line_color\":\"black\",\"line_dash\":[4,4],\"line_width\":2,\"right_units\":\"screen\",\"syncable\":false,\"top_units\":\"screen\"},\"id\":\"1030\",\"type\":\"BoxAnnotation\"},{\"attributes\":{\"children\":[{\"id\":\"1003\"},{\"id\":\"1008\"},{\"id\":\"1327\"}],\"margin\":[0,0,0,0],\"name\":\"Row01649\",\"tags\":[\"embedded\"]},\"id\":\"1002\",\"type\":\"Row\"},{\"attributes\":{\"margin\":[5,5,5,5],\"name\":\"HSpacer01653\",\"sizing_mode\":\"stretch_width\"},\"id\":\"1003\",\"type\":\"Spacer\"},{\"attributes\":{\"months\":[0,4,8]},\"id\":\"1071\",\"type\":\"MonthsTicker\"},{\"attributes\":{},\"id\":\"1059\",\"type\":\"UnionRenderers\"},{\"attributes\":{},\"id\":\"1042\",\"type\":\"BasicTickFormatter\"},{\"attributes\":{},\"id\":\"1013\",\"type\":\"LinearScale\"},{\"attributes\":{\"label\":{\"value\":\"actual returns\"},\"renderers\":[{\"id\":\"1050\"}]},\"id\":\"1075\",\"type\":\"LegendItem\"},{\"attributes\":{\"click_policy\":\"mute\",\"coordinates\":null,\"group\":null,\"items\":[{\"id\":\"1075\"},{\"id\":\"1109\"}],\"location\":[0,0],\"title\":\"Variable\"},\"id\":\"1074\",\"type\":\"Legend\"},{\"attributes\":{\"line_color\":\"#30a2da\",\"line_width\":2,\"x\":{\"field\":\"ETH\"},\"y\":{\"field\":\"value\"}},\"id\":\"1047\",\"type\":\"Line\"},{\"attributes\":{\"line_alpha\":0.2,\"line_color\":\"#30a2da\",\"line_width\":2,\"x\":{\"field\":\"ETH\"},\"y\":{\"field\":\"value\"}},\"id\":\"1049\",\"type\":\"Line\"},{\"attributes\":{\"coordinates\":null,\"data_source\":{\"id\":\"1044\"},\"glyph\":{\"id\":\"1047\"},\"group\":null,\"hover_glyph\":null,\"muted_glyph\":{\"id\":\"1049\"},\"nonselection_glyph\":{\"id\":\"1048\"},\"selection_glyph\":{\"id\":\"1076\"},\"view\":{\"id\":\"1051\"}},\"id\":\"1050\",\"type\":\"GlyphRenderer\"},{\"attributes\":{\"below\":[{\"id\":\"1017\"}],\"center\":[{\"id\":\"1020\"},{\"id\":\"1024\"}],\"height\":500,\"left\":[{\"id\":\"1021\"}],\"margin\":[5,5,5,5],\"min_border_bottom\":10,\"min_border_left\":10,\"min_border_right\":10,\"min_border_top\":10,\"renderers\":[{\"id\":\"1050\"},{\"id\":\"1083\"}],\"right\":[{\"id\":\"1074\"}],\"sizing_mode\":\"fixed\",\"title\":{\"id\":\"1009\"},\"toolbar\":{\"id\":\"1031\"},\"width\":1000,\"x_range\":{\"id\":\"1004\"},\"x_scale\":{\"id\":\"1013\"},\"y_range\":{\"id\":\"1005\"},\"y_scale\":{\"id\":\"1015\"}},\"id\":\"1008\",\"subtype\":\"Figure\",\"type\":\"Plot\"},{\"attributes\":{\"end\":15.73187261313066,\"reset_end\":15.73187261313066,\"reset_start\":-1.3501127897142278,\"start\":-1.3501127897142278,\"tags\":[[[\"value\",\"value\",null]]]},\"id\":\"1005\",\"type\":\"Range1d\"},{\"attributes\":{},\"id\":\"1043\",\"type\":\"AllLabels\"},{\"attributes\":{\"margin\":[5,5,5,5],\"name\":\"HSpacer01654\",\"sizing_mode\":\"stretch_width\"},\"id\":\"1327\",\"type\":\"Spacer\"},{\"attributes\":{\"data\":{\"ETH\":{\"__ndarray__\":\"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\",\"dtype\":\"float64\",\"order\":\"little\",\"shape\":[517]},\"Variable\":[\"actual returns\",\"actual returns\",\"actual returns\",\"actual returns\",\"actual returns\",\"actual returns\",\"actual returns\",\"actual returns\",\"actual returns\",\"actual returns\",\"actual returns\",\"actual returns\",\"actual returns\",\"actual returns\",\"actual returns\",\"actual returns\",\"actual returns\",\"actual returns\",\"actual returns\",\"actual returns\",\"actual returns\",\"actual returns\",\"actual returns\",\"actual returns\",\"actual returns\",\"actual returns\",\"actual returns\",\"actual returns\",\"actual returns\",\"actual returns\",\"actual returns\",\"actual returns\",\"actual returns\",\"actual returns\",\"actual returns\",\"actual returns\",\"actual returns\",\"actual returns\",\"actual returns\",\"actual returns\",\"actual returns\",\"actual returns\",\"actual returns\",\"actual returns\",\"actual returns\",\"actual returns\",\"actual returns\",\"actual returns\",\"actual returns\",\"actual returns\",\"actual returns\",\"actual returns\",\"actual returns\",\"actual returns\",\"actual returns\",\"actual returns\",\"actual returns\",\"actual returns\",\"actual returns\",\"actual returns\",\"actual returns\",\"actual returns\",\"actual returns\",\"actual returns\",\"actual returns\",\"actual returns\",\"actual returns\",\"actual returns\",\"actual returns\",\"actual returns\",\"actual returns\",\"actual returns\",\"actual returns\",\"actual returns\",\"actual returns\",\"actual returns\",\"actual returns\",\"actual returns\",\"actual returns\",\"actual returns\",\"actual returns\",\"actual returns\",\"actual returns\",\"actual returns\",\"actual returns\",\"actual returns\",\"actual returns\",\"actual returns\",\"actual returns\",\"actual returns\",\"actual returns\",\"actual returns\",\"actual returns\",\"actual returns\",\"actual returns\",\"actual returns\",\"actual returns\",\"actual returns\",\"actual returns\",\"actual returns\",\"actual returns\",\"actual returns\",\"actual returns\",\"actual returns\",\"actual returns\",\"actual returns\",\"actual returns\",\"actual returns\",\"actual returns\",\"actual returns\",\"actual returns\",\"actual returns\",\"actual returns\",\"actual returns\",\"actual returns\",\"actual returns\",\"actual returns\",\"actual returns\",\"actual returns\",\"actual returns\",\"actual returns\",\"actual returns\",\"actual returns\",\"actual returns\",\"actual returns\",\"actual returns\",\"actual returns\",\"actual returns\",\"actual returns\",\"actual returns\",\"actual returns\",\"actual returns\",\"actual returns\",\"actual returns\",\"actual returns\",\"actual returns\",\"actual returns\",\"actual returns\",\"actual returns\",\"actual returns\",\"actual returns\",\"actual returns\",\"actual returns\",\"actual returns\",\"actual returns\",\"actual returns\",\"actual returns\",\"actual returns\",\"actual returns\",\"actual returns\",\"actual returns\",\"actual returns\",\"actual returns\",\"actual returns\",\"actual returns\",\"actual returns\",\"actual returns\",\"actual returns\",\"actual returns\",\"actual returns\",\"actual returns\",\"actual returns\",\"actual returns\",\"actual returns\",\"actual returns\",\"actual returns\",\"actual returns\",\"actual returns\",\"actual returns\",\"actual returns\",\"actual returns\",\"actual returns\",\"actual returns\",\"actual returns\",\"actual returns\",\"actual returns\",\"actual returns\",\"actual returns\",\"actual returns\",\"actual returns\",\"actual returns\",\"actual returns\",\"actual returns\",\"actual returns\",\"actual returns\",\"actual returns\",\"actual returns\",\"actual returns\",\"actual returns\",\"actual returns\",\"actual returns\",\"actual returns\",\"actual returns\",\"actual returns\",\"actual returns\",\"actual returns\",\"actual returns\",\"actual returns\",\"actual returns\",\"actual returns\",\"actual returns\",\"actual returns\",\"actual returns\",\"actual returns\",\"actual returns\",\"actual returns\",\"actual returns\",\"actual returns\",\"actual returns\",\"actual returns\",\"actual returns\",\"actual returns\",\"actual returns\",\"actual returns\",\"actual returns\",\"actual returns\",\"actual returns\",\"actual returns\",\"actual returns\",\"actual returns\",\"actual returns\",\"actual returns\",\"actual returns\",\"actual returns\",\"actual returns\",\"actual returns\",\"actual returns\",\"actual returns\",\"actual returns\",\"actual returns\",\"actual returns\",\"actual returns\",\"actual returns\",\"actual returns\",\"actual returns\",\"actual returns\",\"actual returns\",\"actual returns\",\"actual returns\",\"actual returns\",\"actual returns\",\"actual returns\",\"actual returns\",\"actual returns\",\"actual returns\",\"actual returns\",\"actual returns\",\"actual returns\",\"actual returns\",\"actual returns\",\"actual returns\",\"actual returns\",\"actual returns\",\"actual returns\",\"actual returns\",\"actual returns\",\"actual returns\",\"actual returns\",\"actual returns\",\"actual returns\",\"actual returns\",\"actual returns\",\"actual returns\",\"actual returns\",\"actual returns\",\"actual returns\",\"actual returns\",\"actual returns\",\"actual returns\",\"actual returns\",\"actual returns\",\"actual returns\",\"actual returns\",\"actual returns\",\"actual returns\",\"actual returns\",\"actual returns\",\"actual returns\",\"actual returns\",\"actual returns\",\"actual returns\",\"actual returns\",\"actual returns\",\"actual returns\",\"actual returns\",\"actual returns\",\"actual returns\",\"actual returns\",\"actual returns\",\"actual returns\",\"actual returns\",\"actual returns\",\"actual returns\",\"actual returns\",\"actual returns\",\"actual returns\",\"actual returns\",\"actual returns\",\"actual returns\",\"actual returns\",\"actual returns\",\"actual returns\",\"actual returns\",\"actual returns\",\"actual returns\",\"actual returns\",\"actual returns\",\"actual returns\",\"actual returns\",\"actual returns\",\"actual returns\",\"actual returns\",\"actual returns\",\"actual returns\",\"actual returns\",\"actual returns\",\"actual returns\",\"actual returns\",\"actual returns\",\"actual returns\",\"actual returns\",\"actual returns\",\"actual returns\",\"actual returns\",\"actual returns\",\"actual returns\",\"actual returns\",\"actual returns\",\"actual returns\",\"actual returns\",\"actual returns\",\"actual returns\",\"actual returns\",\"actual returns\",\"actual returns\",\"actual returns\",\"actual returns\",\"actual returns\",\"actual returns\",\"actual returns\",\"actual returns\",\"actual returns\",\"actual returns\",\"actual returns\",\"actual returns\",\"actual returns\",\"actual returns\",\"actual returns\",\"actual returns\",\"actual returns\",\"actual returns\",\"actual returns\",\"actual returns\",\"actual returns\",\"actual returns\",\"actual returns\",\"actual returns\",\"actual returns\",\"actual returns\",\"actual returns\",\"actual returns\",\"actual returns\",\"actual returns\",\"actual returns\",\"actual returns\",\"actual returns\",\"actual returns\",\"actual returns\",\"actual returns\",\"actual returns\",\"actual returns\",\"actual returns\",\"actual returns\",\"actual returns\",\"actual returns\",\"actual returns\",\"actual returns\",\"actual returns\",\"actual returns\",\"actual returns\",\"actual returns\",\"actual returns\",\"actual returns\",\"actual returns\",\"actual returns\",\"actual returns\",\"actual returns\",\"actual returns\",\"actual returns\",\"actual returns\",\"actual returns\",\"actual returns\",\"actual returns\",\"actual returns\",\"actual returns\",\"actual returns\",\"actual returns\",\"actual returns\",\"actual returns\",\"actual returns\",\"actual returns\",\"actual returns\",\"actual returns\",\"actual returns\",\"actual returns\",\"actual returns\",\"actual returns\",\"actual returns\",\"actual returns\",\"actual returns\",\"actual returns\",\"actual returns\",\"actual returns\",\"actual returns\",\"actual returns\",\"actual returns\",\"actual returns\",\"actual returns\",\"actual returns\",\"actual returns\",\"actual returns\",\"actual returns\",\"actual returns\",\"actual returns\",\"actual returns\",\"actual returns\",\"actual returns\",\"actual returns\",\"actual returns\",\"actual returns\",\"actual returns\",\"actual returns\",\"actual returns\",\"actual returns\",\"actual returns\",\"actual returns\",\"actual returns\",\"actual returns\",\"actual returns\",\"actual returns\",\"actual returns\",\"actual returns\",\"actual returns\",\"actual returns\",\"actual returns\",\"actual returns\",\"actual returns\",\"actual returns\",\"actual returns\",\"actual returns\",\"actual returns\",\"actual returns\",\"actual returns\",\"actual returns\",\"actual returns\",\"actual returns\",\"actual returns\",\"actual returns\",\"actual returns\",\"actual returns\",\"actual returns\",\"actual returns\",\"actual returns\",\"actual returns\",\"actual returns\",\"actual returns\",\"actual returns\",\"actual returns\",\"actual returns\",\"actual returns\",\"actual returns\",\"actual returns\",\"actual returns\",\"actual returns\",\"actual returns\",\"actual returns\",\"actual returns\",\"actual returns\",\"actual returns\",\"actual returns\",\"actual returns\",\"actual returns\",\"actual returns\",\"actual returns\",\"actual returns\",\"actual returns\",\"actual returns\",\"actual returns\",\"actual returns\",\"actual returns\",\"actual returns\",\"actual returns\",\"actual returns\",\"actual returns\",\"actual returns\",\"actual returns\",\"actual returns\",\"actual returns\",\"actual returns\",\"actual returns\",\"actual returns\",\"actual returns\",\"actual returns\",\"actual returns\",\"actual returns\",\"actual returns\",\"actual returns\",\"actual returns\",\"actual returns\",\"actual returns\",\"actual returns\",\"actual returns\",\"actual returns\",\"actual returns\",\"actual returns\",\"actual returns\",\"actual returns\"],\"value\":{\"__ndarray__\":\"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\",\"dtype\":\"float64\",\"order\":\"little\",\"shape\":[517]}},\"selected\":{\"id\":\"1045\"},\"selection_policy\":{\"id\":\"1059\"}},\"id\":\"1044\",\"type\":\"ColumnDataSource\"},{\"attributes\":{\"coordinates\":null,\"data_source\":{\"id\":\"1077\"},\"glyph\":{\"id\":\"1080\"},\"group\":null,\"hover_glyph\":null,\"muted_glyph\":{\"id\":\"1082\"},\"nonselection_glyph\":{\"id\":\"1081\"},\"selection_glyph\":{\"id\":\"1110\"},\"view\":{\"id\":\"1084\"}},\"id\":\"1083\",\"type\":\"GlyphRenderer\"},{\"attributes\":{\"callback\":null,\"formatters\":{\"@{ETH}\":\"datetime\"},\"renderers\":[{\"id\":\"1050\"},{\"id\":\"1083\"}],\"tags\":[\"hv_created\"],\"tooltips\":[[\"Variable\",\"@{Variable}\"],[\"ETH\",\"@{ETH}{%F %T}\"],[\"value\",\"@{value}\"]]},\"id\":\"1006\",\"type\":\"HoverTool\"},{\"attributes\":{\"line_alpha\":0.1,\"line_color\":\"#30a2da\",\"line_width\":2,\"x\":{\"field\":\"ETH\"},\"y\":{\"field\":\"value\"}},\"id\":\"1048\",\"type\":\"Line\"},{\"attributes\":{\"label\":{\"value\":\"trading_algorithm_returns\"},\"renderers\":[{\"id\":\"1083\"}]},\"id\":\"1109\",\"type\":\"LegendItem\"}],\"root_ids\":[\"1002\"]},\"title\":\"Bokeh Application\",\"version\":\"2.4.1\"}};\n",
       "    var render_items = [{\"docid\":\"ea30cc11-d4ed-43c7-af1d-fca6e1d6d623\",\"root_ids\":[\"1002\"],\"roots\":{\"1002\":\"52d45267-5908-4923-b429-18caf9057a6f\"}}];\n",
       "    root.Bokeh.embed.embed_items_notebook(docs_json, render_items);\n",
       "  }\n",
       "  if (root.Bokeh !== undefined && root.Bokeh.Panel !== undefined) {\n",
       "    embed_document(root);\n",
       "  } else {\n",
       "    var attempts = 0;\n",
       "    var timer = setInterval(function(root) {\n",
       "      if (root.Bokeh !== undefined && root.Bokeh.Panel !== undefined) {\n",
       "        clearInterval(timer);\n",
       "        embed_document(root);\n",
       "      } else if (document.readyState == \"complete\") {\n",
       "        attempts++;\n",
       "        if (attempts > 200) {\n",
       "          clearInterval(timer);\n",
       "          console.log(\"Bokeh: ERROR: Unable to run BokehJS code because BokehJS library is missing\");\n",
       "        }\n",
       "      }\n",
       "    }, 25, root)\n",
       "  }\n",
       "})(window);</script>"
      ],
      "text/plain": [
       ":NdOverlay   [Variable]\n",
       "   :Curve   [ETH]   (value)"
      ]
     },
     "execution_count": 65,
     "metadata": {
      "application/vnd.holoviews_exec.v0+json": {
       "id": "1002"
      }
     },
     "output_type": "execute_result"
    }
   ],
   "source": [
    "# Calculate and plot the cumulative returns for the `actual_returns` and the `trading_algorithm_returns`\n",
    "(1 + eth_predictions_df[[\"actual returns\", \"trading_algorithm_returns\"]]).cumprod().hvplot(title='ETH', width=1000, height=500)"
   ]
  },
  {
   "cell_type": "code",
   "execution_count": 2,
   "id": "b291c8d7-774a-4f25-941a-af13f14c07e3",
   "metadata": {},
   "outputs": [
    {
     "ename": "NameError",
     "evalue": "name 'btc_predictions_df' is not defined",
     "output_type": "error",
     "traceback": [
      "\u001b[1;31m---------------------------------------------------------------------------\u001b[0m",
      "\u001b[1;31mNameError\u001b[0m                                 Traceback (most recent call last)",
      "\u001b[1;32mC:\\Users\\BECCAJ~1\\AppData\\Local\\Temp/ipykernel_13132/975968165.py\u001b[0m in \u001b[0;36m<module>\u001b[1;34m\u001b[0m\n\u001b[0;32m      1\u001b[0m \u001b[1;31m# Calculate and plot the cumulative returns for the `actual_returns` and the `trading_algorithm_returns`\u001b[0m\u001b[1;33m\u001b[0m\u001b[1;33m\u001b[0m\u001b[1;33m\u001b[0m\u001b[0m\n\u001b[1;32m----> 2\u001b[1;33m \u001b[1;33m(\u001b[0m\u001b[1;36m1\u001b[0m \u001b[1;33m+\u001b[0m \u001b[0mbtc_predictions_df\u001b[0m\u001b[1;33m[\u001b[0m\u001b[1;33m[\u001b[0m\u001b[1;34m\"actual returns\"\u001b[0m\u001b[1;33m,\u001b[0m \u001b[1;34m\"trading_algorithm_returns\"\u001b[0m\u001b[1;33m]\u001b[0m\u001b[1;33m]\u001b[0m\u001b[1;33m)\u001b[0m\u001b[1;33m.\u001b[0m\u001b[0mcumprod\u001b[0m\u001b[1;33m(\u001b[0m\u001b[1;33m)\u001b[0m\u001b[1;33m.\u001b[0m\u001b[0mhvplot\u001b[0m\u001b[1;33m(\u001b[0m\u001b[0mtitle\u001b[0m\u001b[1;33m=\u001b[0m\u001b[1;34m'BTC'\u001b[0m\u001b[1;33m,\u001b[0m \u001b[0mwidth\u001b[0m\u001b[1;33m=\u001b[0m\u001b[1;36m1000\u001b[0m\u001b[1;33m,\u001b[0m \u001b[0mheight\u001b[0m\u001b[1;33m=\u001b[0m\u001b[1;36m500\u001b[0m\u001b[1;33m)\u001b[0m\u001b[1;33m\u001b[0m\u001b[1;33m\u001b[0m\u001b[0m\n\u001b[0m",
      "\u001b[1;31mNameError\u001b[0m: name 'btc_predictions_df' is not defined"
     ]
    }
   ],
   "source": [
    "# Calculate and plot the cumulative returns for the `actual_returns` and the `trading_algorithm_returns`\n",
    "(1 + btc_predictions_df[[\"actual returns\", \"trading_algorithm_returns\"]]).cumprod().hvplot(title='BTC', width=1000, height=500)"
   ]
  },
  {
   "cell_type": "code",
   "execution_count": null,
   "id": "2c92da69-82f0-410e-977e-90d28f0da16a",
   "metadata": {},
   "outputs": [],
   "source": []
  }
 ],
 "metadata": {
  "kernelspec": {
   "display_name": "Python 3 (ipykernel)",
   "language": "python",
   "name": "python3"
  },
  "language_info": {
   "codemirror_mode": {
    "name": "ipython",
    "version": 3
   },
   "file_extension": ".py",
   "mimetype": "text/x-python",
   "name": "python",
   "nbconvert_exporter": "python",
   "pygments_lexer": "ipython3",
   "version": "3.8.8"
  }
 },
 "nbformat": 4,
 "nbformat_minor": 5
}
