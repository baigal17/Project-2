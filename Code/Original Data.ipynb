{
 "cells": [
  {
   "cell_type": "markdown",
   "id": "54dafa45-b2aa-4b0d-86a5-413e5dbe95fa",
   "metadata": {},
   "source": [
    "# Bitcoin and Ethereum ML trading bot"
   ]
  },
  {
   "cell_type": "code",
<<<<<<< HEAD
   "execution_count": 71,
=======
   "execution_count": 1,
>>>>>>> master
   "id": "71314137-31e4-4dd1-8157-97a47e468b7c",
   "metadata": {},
   "outputs": [],
   "source": [
    "# Initial imports\n",
    "import os\n",
    "import pandas as pd\n",
    "from pathlib import Path\n",
    "from dotenv import load_dotenv\n",
    "import alpaca_trade_api as tradeapi\n",
<<<<<<< HEAD
    "from pandas.tseries.offsets import DateOffset\n",
    "from finta import TA"
=======
    "from pandas.tseries.offsets import DateOffset\n"
>>>>>>> master
   ]
  },
  {
   "cell_type": "code",
<<<<<<< HEAD
   "execution_count": 72,
=======
   "execution_count": null,
   "id": "b75e6350-036e-4a11-8086-4b4d4c30be5b",
   "metadata": {},
   "outputs": [],
   "source": []
  },
  {
   "cell_type": "code",
   "execution_count": 2,
>>>>>>> master
   "id": "f877374e-dbe6-4a64-bc12-68548dec97cf",
   "metadata": {},
   "outputs": [
    {
     "name": "stderr",
     "output_type": "stream",
     "text": [
      "Python-dotenv could not parse statement starting at line 1\n"
     ]
    },
    {
     "data": {
      "text/plain": [
       "True"
      ]
     },
<<<<<<< HEAD
     "execution_count": 72,
=======
     "execution_count": 2,
>>>>>>> master
     "metadata": {},
     "output_type": "execute_result"
    }
   ],
   "source": [
    "# Load .env environment variables\n",
    "env_path = Path(\"./alpaca_keys.env\")\n",
    "load_dotenv(dotenv_path=env_path)"
   ]
  },
  {
   "cell_type": "markdown",
   "id": "d15e3d2e-010b-4eb2-a432-a32121558531",
   "metadata": {},
   "source": [
    "## Connect to Alpaca API and import data"
   ]
  },
  {
   "cell_type": "code",
<<<<<<< HEAD
   "execution_count": 73,
=======
   "execution_count": 3,
>>>>>>> master
   "id": "0a0daa86-2ac8-4f26-afc8-8ee530d439ab",
   "metadata": {},
   "outputs": [],
   "source": [
    "\n",
    "API_KEY = os.getenv(\"ALPACA_API_KEY\")\n",
    "API_SECRET = os.getenv(\"ALPACA_SECRET_KEY\")\n",
    "ALPACA_API_BASE_URL = \"https://paper-api.alpaca.markets\""
   ]
  },
  {
   "cell_type": "code",
<<<<<<< HEAD
   "execution_count": 74,
=======
   "execution_count": 4,
>>>>>>> master
   "id": "f09a244f-8a17-4e5d-8155-96c00e0eea39",
   "metadata": {},
   "outputs": [],
   "source": [
    "# Create a connection to the API \n",
    "alpaca = tradeapi.REST(\n",
    "    API_KEY,\n",
    "    API_SECRET,\n",
    "    ALPACA_API_BASE_URL,\n",
    "    api_version=\"v2\")"
   ]
  },
  {
   "cell_type": "code",
<<<<<<< HEAD
   "execution_count": 75,
=======
   "execution_count": 5,
>>>>>>> master
   "id": "2e54c3a5-4991-4004-b868-4b5025fba5e6",
   "metadata": {},
   "outputs": [],
   "source": [
    "# Set the tickers\n",
    "eth_ticker = [\"ETHUSD\"]\n",
    "btc_ticker = [\"BTCUSD\"]\n"
   ]
  },
  {
   "cell_type": "code",
<<<<<<< HEAD
   "execution_count": 76,
=======
   "execution_count": 6,
>>>>>>> master
   "id": "2c13ec2c-0f9f-4df0-b38a-87ec55406f23",
   "metadata": {},
   "outputs": [],
   "source": [
    "# Set the parameter tz to \"America/New_York\", \n",
    "\n",
    "start_date = pd.Timestamp(\"2016-06-08\", tz=\"America/New_York\").isoformat()\n",
    "end_date = pd.Timestamp(\"2022-02-08\", tz=\"America/New_York\").isoformat()"
   ]
  },
  {
   "cell_type": "code",
<<<<<<< HEAD
   "execution_count": 77,
=======
   "execution_count": 7,
>>>>>>> master
   "id": "af5e9952-5951-45b9-9dd0-07c48be2b6c7",
   "metadata": {},
   "outputs": [],
   "source": [
    "# Set timeframe to one day (1D) for the Alpaca API\n",
    "timeframe = \"1Day\""
   ]
  },
  {
   "cell_type": "markdown",
   "id": "4ed07c09-e199-4939-90b6-4a565fff6003",
   "metadata": {},
   "source": [
    "## Preprocess Ethereum Data"
   ]
  },
  {
   "cell_type": "code",
<<<<<<< HEAD
   "execution_count": 78,
=======
   "execution_count": 8,
>>>>>>> master
   "id": "6887df95-e0c7-44fe-b5ac-64e38de97b50",
   "metadata": {},
   "outputs": [
    {
     "data": {
      "text/html": [
       "<div>\n",
       "<style scoped>\n",
       "    .dataframe tbody tr th:only-of-type {\n",
       "        vertical-align: middle;\n",
       "    }\n",
       "\n",
       "    .dataframe tbody tr th {\n",
       "        vertical-align: top;\n",
       "    }\n",
       "\n",
       "    .dataframe thead th {\n",
       "        text-align: right;\n",
       "    }\n",
       "</style>\n",
       "<table border=\"1\" class=\"dataframe\">\n",
       "  <thead>\n",
       "    <tr style=\"text-align: right;\">\n",
       "      <th></th>\n",
       "      <th>exchange</th>\n",
       "      <th>open</th>\n",
       "      <th>high</th>\n",
       "      <th>low</th>\n",
       "      <th>close</th>\n",
       "      <th>volume</th>\n",
       "      <th>trade_count</th>\n",
       "      <th>vwap</th>\n",
       "      <th>symbol</th>\n",
       "    </tr>\n",
       "    <tr>\n",
       "      <th>timestamp</th>\n",
       "      <th></th>\n",
       "      <th></th>\n",
       "      <th></th>\n",
       "      <th></th>\n",
       "      <th></th>\n",
       "      <th></th>\n",
       "      <th></th>\n",
       "      <th></th>\n",
       "      <th></th>\n",
       "    </tr>\n",
       "  </thead>\n",
       "  <tbody>\n",
       "    <tr>\n",
       "      <th>2016-06-08 05:00:00+00:00</th>\n",
       "      <td>CBSE</td>\n",
       "      <td>14.64</td>\n",
       "      <td>14.80</td>\n",
       "      <td>14.40</td>\n",
       "      <td>14.64</td>\n",
       "      <td>6849.865353</td>\n",
       "      <td>358</td>\n",
       "      <td>14.601223</td>\n",
       "      <td>ETHUSD</td>\n",
       "    </tr>\n",
       "    <tr>\n",
       "      <th>2016-06-09 05:00:00+00:00</th>\n",
       "      <td>CBSE</td>\n",
       "      <td>14.61</td>\n",
       "      <td>14.74</td>\n",
       "      <td>14.52</td>\n",
       "      <td>14.67</td>\n",
       "      <td>2021.553794</td>\n",
       "      <td>256</td>\n",
       "      <td>14.608697</td>\n",
       "      <td>ETHUSD</td>\n",
       "    </tr>\n",
       "    <tr>\n",
       "      <th>2016-06-10 05:00:00+00:00</th>\n",
       "      <td>CBSE</td>\n",
       "      <td>13.93</td>\n",
       "      <td>14.11</td>\n",
       "      <td>13.86</td>\n",
       "      <td>14.03</td>\n",
       "      <td>1585.286563</td>\n",
       "      <td>122</td>\n",
       "      <td>14.010104</td>\n",
       "      <td>ETHUSD</td>\n",
       "    </tr>\n",
       "    <tr>\n",
       "      <th>2016-06-11 05:00:00+00:00</th>\n",
       "      <td>CBSE</td>\n",
       "      <td>14.14</td>\n",
       "      <td>14.59</td>\n",
       "      <td>13.92</td>\n",
       "      <td>14.53</td>\n",
       "      <td>3639.141808</td>\n",
       "      <td>563</td>\n",
       "      <td>14.286751</td>\n",
       "      <td>ETHUSD</td>\n",
       "    </tr>\n",
       "    <tr>\n",
       "      <th>2016-06-12 05:00:00+00:00</th>\n",
       "      <td>CBSE</td>\n",
       "      <td>14.52</td>\n",
       "      <td>15.91</td>\n",
       "      <td>14.28</td>\n",
       "      <td>15.58</td>\n",
       "      <td>16706.624131</td>\n",
       "      <td>762</td>\n",
       "      <td>15.097705</td>\n",
       "      <td>ETHUSD</td>\n",
       "    </tr>\n",
       "  </tbody>\n",
       "</table>\n",
       "</div>"
      ],
      "text/plain": [
       "                          exchange   open   high    low  close        volume  \\\n",
       "timestamp                                                                      \n",
       "2016-06-08 05:00:00+00:00     CBSE  14.64  14.80  14.40  14.64   6849.865353   \n",
       "2016-06-09 05:00:00+00:00     CBSE  14.61  14.74  14.52  14.67   2021.553794   \n",
       "2016-06-10 05:00:00+00:00     CBSE  13.93  14.11  13.86  14.03   1585.286563   \n",
       "2016-06-11 05:00:00+00:00     CBSE  14.14  14.59  13.92  14.53   3639.141808   \n",
       "2016-06-12 05:00:00+00:00     CBSE  14.52  15.91  14.28  15.58  16706.624131   \n",
       "\n",
       "                           trade_count       vwap  symbol  \n",
       "timestamp                                                  \n",
       "2016-06-08 05:00:00+00:00          358  14.601223  ETHUSD  \n",
       "2016-06-09 05:00:00+00:00          256  14.608697  ETHUSD  \n",
       "2016-06-10 05:00:00+00:00          122  14.010104  ETHUSD  \n",
       "2016-06-11 05:00:00+00:00          563  14.286751  ETHUSD  \n",
       "2016-06-12 05:00:00+00:00          762  15.097705  ETHUSD  "
      ]
     },
     "metadata": {},
     "output_type": "display_data"
    }
   ],
   "source": [
    "# Use the Alpaca get_crypto_bars function to gather the price information for ETHEREUM\n",
    "\n",
    "eth_data_df = alpaca.get_crypto_bars(\n",
    "    eth_ticker,\n",
    "    timeframe,\n",
    "    start = start_date,\n",
    "    end = end_date\n",
    ").df\n",
    "\n",
    "# Review the resulting `eth_data_df` DataFrame. \n",
    "display(eth_data_df.head())\n"
   ]
  },
  {
   "cell_type": "code",
<<<<<<< HEAD
   "execution_count": 79,
   "id": "f67915d1-27de-4501-8083-1e6f4959c153",
   "metadata": {},
=======
   "execution_count": 9,
   "id": "52346981-42b4-41c2-a4fa-1a544059f2c0",
   "metadata": {},
   "outputs": [],
   "source": [
    "# Calculate the daily returns using the closing prices and the pct_change function\n",
    "eth_data_df[\"actual returns\"] = eth_data_df[\"close\"].pct_change()\n",
    "\n",
    "# Drop all NaN values from the DataFrame\n",
    "eth_data_df = eth_data_df.dropna()"
   ]
  },
  {
   "cell_type": "code",
   "execution_count": 10,
   "id": "f67915d1-27de-4501-8083-1e6f4959c153",
   "metadata": {},
   "outputs": [],
   "source": [
    "eth_prices_df = eth_data_df[['symbol', 'open', 'high', 'low', 'close', 'volume', 'actual returns']]"
   ]
  },
  {
   "cell_type": "code",
   "execution_count": 11,
   "id": "6f3a6004-2895-4eea-b435-34298ad6ce52",
   "metadata": {},
>>>>>>> master
   "outputs": [
    {
     "data": {
      "text/html": [
       "<div>\n",
       "<style scoped>\n",
       "    .dataframe tbody tr th:only-of-type {\n",
       "        vertical-align: middle;\n",
       "    }\n",
       "\n",
       "    .dataframe tbody tr th {\n",
       "        vertical-align: top;\n",
       "    }\n",
       "\n",
       "    .dataframe thead th {\n",
       "        text-align: right;\n",
       "    }\n",
       "</style>\n",
       "<table border=\"1\" class=\"dataframe\">\n",
       "  <thead>\n",
       "    <tr style=\"text-align: right;\">\n",
       "      <th></th>\n",
       "      <th>open</th>\n",
       "      <th>high</th>\n",
       "      <th>low</th>\n",
       "      <th>close</th>\n",
       "      <th>volume</th>\n",
       "    </tr>\n",
       "  </thead>\n",
       "  <tbody>\n",
       "    <tr>\n",
       "      <th>2016-06-08</th>\n",
       "      <td>14.64</td>\n",
       "      <td>14.80</td>\n",
       "      <td>14.40</td>\n",
       "      <td>14.64</td>\n",
       "      <td>6849.865353</td>\n",
       "    </tr>\n",
       "    <tr>\n",
       "      <th>2016-06-09</th>\n",
       "      <td>14.61</td>\n",
       "      <td>14.74</td>\n",
       "      <td>14.52</td>\n",
       "      <td>14.67</td>\n",
       "      <td>2021.553794</td>\n",
       "    </tr>\n",
       "    <tr>\n",
       "      <th>2016-06-10</th>\n",
       "      <td>13.93</td>\n",
       "      <td>14.11</td>\n",
       "      <td>13.86</td>\n",
       "      <td>14.03</td>\n",
       "      <td>1585.286563</td>\n",
       "    </tr>\n",
       "    <tr>\n",
       "      <th>2016-06-11</th>\n",
       "      <td>14.14</td>\n",
       "      <td>14.59</td>\n",
       "      <td>13.92</td>\n",
       "      <td>14.53</td>\n",
       "      <td>3639.141808</td>\n",
       "    </tr>\n",
       "    <tr>\n",
       "      <th>2016-06-12</th>\n",
       "      <td>14.52</td>\n",
       "      <td>15.91</td>\n",
       "      <td>14.28</td>\n",
       "      <td>15.58</td>\n",
       "      <td>16706.624131</td>\n",
       "    </tr>\n",
       "  </tbody>\n",
       "</table>\n",
       "</div>"
      ],
      "text/plain": [
       "             open   high    low  close        volume\n",
       "2016-06-08  14.64  14.80  14.40  14.64   6849.865353\n",
       "2016-06-09  14.61  14.74  14.52  14.67   2021.553794\n",
       "2016-06-10  13.93  14.11  13.86  14.03   1585.286563\n",
       "2016-06-11  14.14  14.59  13.92  14.53   3639.141808\n",
       "2016-06-12  14.52  15.91  14.28  15.58  16706.624131"
      ]
     },
     "metadata": {},
     "output_type": "display_data"
    },
    {
     "data": {
      "text/html": [
       "<div>\n",
       "<style scoped>\n",
       "    .dataframe tbody tr th:only-of-type {\n",
       "        vertical-align: middle;\n",
       "    }\n",
       "\n",
       "    .dataframe tbody tr th {\n",
       "        vertical-align: top;\n",
       "    }\n",
       "\n",
       "    .dataframe thead th {\n",
       "        text-align: right;\n",
       "    }\n",
       "</style>\n",
       "<table border=\"1\" class=\"dataframe\">\n",
       "  <thead>\n",
       "    <tr style=\"text-align: right;\">\n",
       "      <th></th>\n",
       "      <th>open</th>\n",
       "      <th>high</th>\n",
       "      <th>low</th>\n",
       "      <th>close</th>\n",
       "      <th>volume</th>\n",
       "    </tr>\n",
       "  </thead>\n",
       "  <tbody>\n",
       "    <tr>\n",
       "      <th>2022-02-06</th>\n",
       "      <td>3010.18</td>\n",
       "      <td>3101.16</td>\n",
       "      <td>2967.57</td>\n",
       "      <td>3095.09</td>\n",
       "      <td>2242.796106</td>\n",
       "    </tr>\n",
       "    <tr>\n",
       "      <th>2022-02-06</th>\n",
       "      <td>3020.00</td>\n",
       "      <td>3112.00</td>\n",
       "      <td>2954.00</td>\n",
       "      <td>3092.70</td>\n",
       "      <td>12299.525000</td>\n",
       "    </tr>\n",
       "    <tr>\n",
       "      <th>2022-02-07</th>\n",
       "      <td>3095.00</td>\n",
       "      <td>3199.08</td>\n",
       "      <td>3051.05</td>\n",
       "      <td>3187.58</td>\n",
       "      <td>220032.905103</td>\n",
       "    </tr>\n",
       "    <tr>\n",
       "      <th>2022-02-07</th>\n",
       "      <td>3098.79</td>\n",
       "      <td>3197.50</td>\n",
       "      <td>3062.28</td>\n",
       "      <td>3191.60</td>\n",
       "      <td>3625.869325</td>\n",
       "    </tr>\n",
       "    <tr>\n",
       "      <th>2022-02-07</th>\n",
       "      <td>3097.20</td>\n",
       "      <td>3196.90</td>\n",
       "      <td>3050.60</td>\n",
       "      <td>3188.20</td>\n",
       "      <td>8537.947000</td>\n",
       "    </tr>\n",
       "  </tbody>\n",
       "</table>\n",
       "</div>"
      ],
      "text/plain": [
       "               open     high      low    close         volume\n",
       "2022-02-06  3010.18  3101.16  2967.57  3095.09    2242.796106\n",
       "2022-02-06  3020.00  3112.00  2954.00  3092.70   12299.525000\n",
       "2022-02-07  3095.00  3199.08  3051.05  3187.58  220032.905103\n",
       "2022-02-07  3098.79  3197.50  3062.28  3191.60    3625.869325\n",
       "2022-02-07  3097.20  3196.90  3050.60  3188.20    8537.947000"
      ]
     },
     "metadata": {},
     "output_type": "display_data"
    }
   ],
   "source": [
    "eth_prices_df = eth_data_df.drop(columns = ['exchange', 'trade_count', 'vwap', 'symbol'])\n",
    "eth_prices_df.index =eth_prices_df.index.date\n",
    "\n",
    "display(eth_prices_df.head(5))\n",
    "display(eth_prices_df.tail(5))"
   ]
  },
  {
   "cell_type": "markdown",
   "id": "35257bfb-de4e-49dd-90fa-7da3107f12b4",
   "metadata": {},
   "source": [
    "## Preprocess Bitcoin Data"
   ]
  },
  {
   "cell_type": "code",
<<<<<<< HEAD
   "execution_count": 80,
   "id": "ceea2bb2-2053-4cad-b2f7-10cc1906fdc5",
=======
   "execution_count": 12,
   "id": "f66c2077-25cb-4576-9ecd-b6ff53035aa2",
>>>>>>> master
   "metadata": {},
   "outputs": [
    {
     "data": {
      "text/html": [
       "<div>\n",
       "<style scoped>\n",
       "    .dataframe tbody tr th:only-of-type {\n",
       "        vertical-align: middle;\n",
       "    }\n",
       "\n",
       "    .dataframe tbody tr th {\n",
       "        vertical-align: top;\n",
       "    }\n",
       "\n",
       "    .dataframe thead th {\n",
       "        text-align: right;\n",
       "    }\n",
       "</style>\n",
       "<table border=\"1\" class=\"dataframe\">\n",
       "  <thead>\n",
       "    <tr style=\"text-align: right;\">\n",
       "      <th></th>\n",
       "      <th>exchange</th>\n",
       "      <th>open</th>\n",
       "      <th>high</th>\n",
       "      <th>low</th>\n",
       "      <th>close</th>\n",
       "      <th>volume</th>\n",
       "      <th>trade_count</th>\n",
       "      <th>vwap</th>\n",
       "      <th>symbol</th>\n",
       "    </tr>\n",
       "    <tr>\n",
       "      <th>timestamp</th>\n",
       "      <th></th>\n",
       "      <th></th>\n",
       "      <th></th>\n",
       "      <th></th>\n",
       "      <th></th>\n",
       "      <th></th>\n",
       "      <th></th>\n",
       "      <th></th>\n",
       "      <th></th>\n",
       "    </tr>\n",
       "  </thead>\n",
       "  <tbody>\n",
       "    <tr>\n",
       "      <th>2016-06-08 05:00:00+00:00</th>\n",
       "      <td>CBSE</td>\n",
       "      <td>583.19</td>\n",
       "      <td>583.48</td>\n",
       "      <td>579.04</td>\n",
       "      <td>581.40</td>\n",
       "      <td>1005.394407</td>\n",
       "      <td>6777</td>\n",
       "      <td>581.282133</td>\n",
       "      <td>BTCUSD</td>\n",
       "    </tr>\n",
       "    <tr>\n",
       "      <th>2016-06-09 05:00:00+00:00</th>\n",
       "      <td>CBSE</td>\n",
       "      <td>581.40</td>\n",
       "      <td>582.06</td>\n",
       "      <td>574.00</td>\n",
       "      <td>577.46</td>\n",
       "      <td>3909.795967</td>\n",
       "      <td>17415</td>\n",
       "      <td>577.913543</td>\n",
       "      <td>BTCUSD</td>\n",
       "    </tr>\n",
       "    <tr>\n",
       "      <th>2016-06-10 05:00:00+00:00</th>\n",
       "      <td>CBSE</td>\n",
       "      <td>580.31</td>\n",
       "      <td>586.12</td>\n",
       "      <td>580.31</td>\n",
       "      <td>585.70</td>\n",
       "      <td>1328.264354</td>\n",
       "      <td>5173</td>\n",
       "      <td>583.444632</td>\n",
       "      <td>BTCUSD</td>\n",
       "    </tr>\n",
       "    <tr>\n",
       "      <th>2016-06-11 05:00:00+00:00</th>\n",
       "      <td>CBSE</td>\n",
       "      <td>609.50</td>\n",
       "      <td>639.00</td>\n",
       "      <td>605.00</td>\n",
       "      <td>637.00</td>\n",
       "      <td>4544.269990</td>\n",
       "      <td>13470</td>\n",
       "      <td>623.347998</td>\n",
       "      <td>BTCUSD</td>\n",
       "    </tr>\n",
       "    <tr>\n",
       "      <th>2016-06-12 05:00:00+00:00</th>\n",
       "      <td>CBSE</td>\n",
       "      <td>637.00</td>\n",
       "      <td>687.71</td>\n",
       "      <td>625.79</td>\n",
       "      <td>677.86</td>\n",
       "      <td>13388.552021</td>\n",
       "      <td>37739</td>\n",
       "      <td>654.400225</td>\n",
       "      <td>BTCUSD</td>\n",
       "    </tr>\n",
       "  </tbody>\n",
       "</table>\n",
       "</div>"
      ],
      "text/plain": [
       "                          exchange    open    high     low   close  \\\n",
       "timestamp                                                            \n",
       "2016-06-08 05:00:00+00:00     CBSE  583.19  583.48  579.04  581.40   \n",
       "2016-06-09 05:00:00+00:00     CBSE  581.40  582.06  574.00  577.46   \n",
       "2016-06-10 05:00:00+00:00     CBSE  580.31  586.12  580.31  585.70   \n",
       "2016-06-11 05:00:00+00:00     CBSE  609.50  639.00  605.00  637.00   \n",
       "2016-06-12 05:00:00+00:00     CBSE  637.00  687.71  625.79  677.86   \n",
       "\n",
       "                                 volume  trade_count        vwap  symbol  \n",
       "timestamp                                                                 \n",
       "2016-06-08 05:00:00+00:00   1005.394407         6777  581.282133  BTCUSD  \n",
       "2016-06-09 05:00:00+00:00   3909.795967        17415  577.913543  BTCUSD  \n",
       "2016-06-10 05:00:00+00:00   1328.264354         5173  583.444632  BTCUSD  \n",
       "2016-06-11 05:00:00+00:00   4544.269990        13470  623.347998  BTCUSD  \n",
       "2016-06-12 05:00:00+00:00  13388.552021        37739  654.400225  BTCUSD  "
      ]
     },
     "metadata": {},
     "output_type": "display_data"
    }
   ],
   "source": [
    "# Use the Alpaca get_crypto_bars function to gather the price information for BITCOIN\n",
    "btc_data_df = alpaca.get_crypto_bars(\n",
    "    btc_ticker,\n",
    "    timeframe,\n",
    "    start = start_date,\n",
    "    end = end_date\n",
    ").df\n",
    "\n",
    "# Review the resulting `btc_data_df` DataFrame. \n",
    "display(btc_data_df.head())"
   ]
  },
  {
   "cell_type": "code",
<<<<<<< HEAD
   "execution_count": 81,
   "id": "69a09ea6-5df9-4623-b08d-b2283b1a2ce9",
   "metadata": {},
   "outputs": [
    {
     "data": {
      "text/html": [
       "<div>\n",
       "<style scoped>\n",
       "    .dataframe tbody tr th:only-of-type {\n",
       "        vertical-align: middle;\n",
       "    }\n",
       "\n",
       "    .dataframe tbody tr th {\n",
       "        vertical-align: top;\n",
       "    }\n",
       "\n",
       "    .dataframe thead th {\n",
       "        text-align: right;\n",
       "    }\n",
       "</style>\n",
       "<table border=\"1\" class=\"dataframe\">\n",
       "  <thead>\n",
       "    <tr style=\"text-align: right;\">\n",
       "      <th></th>\n",
       "      <th>open</th>\n",
       "      <th>high</th>\n",
       "      <th>low</th>\n",
       "      <th>close</th>\n",
       "      <th>volume</th>\n",
       "    </tr>\n",
       "  </thead>\n",
       "  <tbody>\n",
       "    <tr>\n",
       "      <th>2016-06-08</th>\n",
       "      <td>583.19</td>\n",
       "      <td>583.48</td>\n",
       "      <td>579.04</td>\n",
       "      <td>581.40</td>\n",
       "      <td>1005.394407</td>\n",
       "    </tr>\n",
       "    <tr>\n",
       "      <th>2016-06-09</th>\n",
       "      <td>581.40</td>\n",
       "      <td>582.06</td>\n",
       "      <td>574.00</td>\n",
       "      <td>577.46</td>\n",
       "      <td>3909.795967</td>\n",
       "    </tr>\n",
       "    <tr>\n",
       "      <th>2016-06-10</th>\n",
       "      <td>580.31</td>\n",
       "      <td>586.12</td>\n",
       "      <td>580.31</td>\n",
       "      <td>585.70</td>\n",
       "      <td>1328.264354</td>\n",
       "    </tr>\n",
       "    <tr>\n",
       "      <th>2016-06-11</th>\n",
       "      <td>609.50</td>\n",
       "      <td>639.00</td>\n",
       "      <td>605.00</td>\n",
       "      <td>637.00</td>\n",
       "      <td>4544.269990</td>\n",
       "    </tr>\n",
       "    <tr>\n",
       "      <th>2016-06-12</th>\n",
       "      <td>637.00</td>\n",
       "      <td>687.71</td>\n",
       "      <td>625.79</td>\n",
       "      <td>677.86</td>\n",
       "      <td>13388.552021</td>\n",
       "    </tr>\n",
       "  </tbody>\n",
       "</table>\n",
       "</div>"
      ],
      "text/plain": [
       "              open    high     low   close        volume\n",
       "2016-06-08  583.19  583.48  579.04  581.40   1005.394407\n",
       "2016-06-09  581.40  582.06  574.00  577.46   3909.795967\n",
       "2016-06-10  580.31  586.12  580.31  585.70   1328.264354\n",
       "2016-06-11  609.50  639.00  605.00  637.00   4544.269990\n",
       "2016-06-12  637.00  687.71  625.79  677.86  13388.552021"
      ]
     },
     "metadata": {},
     "output_type": "display_data"
    },
    {
     "data": {
      "text/html": [
       "<div>\n",
       "<style scoped>\n",
       "    .dataframe tbody tr th:only-of-type {\n",
       "        vertical-align: middle;\n",
       "    }\n",
       "\n",
       "    .dataframe tbody tr th {\n",
       "        vertical-align: top;\n",
       "    }\n",
       "\n",
       "    .dataframe thead th {\n",
       "        text-align: right;\n",
       "    }\n",
       "</style>\n",
       "<table border=\"1\" class=\"dataframe\">\n",
       "  <thead>\n",
       "    <tr style=\"text-align: right;\">\n",
       "      <th></th>\n",
       "      <th>open</th>\n",
       "      <th>high</th>\n",
       "      <th>low</th>\n",
       "      <th>close</th>\n",
       "      <th>volume</th>\n",
       "    </tr>\n",
       "  </thead>\n",
       "  <tbody>\n",
       "    <tr>\n",
       "      <th>2022-02-06</th>\n",
       "      <td>41683.00</td>\n",
       "      <td>43014.0</td>\n",
       "      <td>41189.00</td>\n",
       "      <td>42770.60</td>\n",
       "      <td>371.202088</td>\n",
       "    </tr>\n",
       "    <tr>\n",
       "      <th>2022-02-06</th>\n",
       "      <td>41579.00</td>\n",
       "      <td>43031.0</td>\n",
       "      <td>41135.00</td>\n",
       "      <td>42816.00</td>\n",
       "      <td>1301.866700</td>\n",
       "    </tr>\n",
       "    <tr>\n",
       "      <th>2022-02-07</th>\n",
       "      <td>42835.26</td>\n",
       "      <td>45035.0</td>\n",
       "      <td>42258.61</td>\n",
       "      <td>44916.93</td>\n",
       "      <td>17605.802688</td>\n",
       "    </tr>\n",
       "    <tr>\n",
       "      <th>2022-02-07</th>\n",
       "      <td>42779.70</td>\n",
       "      <td>44997.4</td>\n",
       "      <td>42290.10</td>\n",
       "      <td>44983.70</td>\n",
       "      <td>660.084832</td>\n",
       "    </tr>\n",
       "    <tr>\n",
       "      <th>2022-02-07</th>\n",
       "      <td>42832.00</td>\n",
       "      <td>45039.0</td>\n",
       "      <td>42266.00</td>\n",
       "      <td>44906.00</td>\n",
       "      <td>2003.415000</td>\n",
       "    </tr>\n",
       "  </tbody>\n",
       "</table>\n",
       "</div>"
      ],
      "text/plain": [
       "                open     high       low     close        volume\n",
       "2022-02-06  41683.00  43014.0  41189.00  42770.60    371.202088\n",
       "2022-02-06  41579.00  43031.0  41135.00  42816.00   1301.866700\n",
       "2022-02-07  42835.26  45035.0  42258.61  44916.93  17605.802688\n",
       "2022-02-07  42779.70  44997.4  42290.10  44983.70    660.084832\n",
       "2022-02-07  42832.00  45039.0  42266.00  44906.00   2003.415000"
      ]
     },
     "metadata": {},
     "output_type": "display_data"
    }
   ],
   "source": [
    "btc_prices_df = btc_data_df.drop(columns = ['exchange', 'trade_count', 'vwap', 'symbol'])\n",
    "btc_prices_df.index =btc_prices_df.index.date\n",
    "\n",
    "display(btc_prices_df.head(5))\n",
    "display(btc_prices_df.tail(5))\n"
   ]
  },
  {
   "cell_type": "markdown",
   "id": "a850644b-8ec1-4a85-9917-d6853f591d70",
   "metadata": {},
   "source": [
    "## Create Training and Testing Period (Train with 75% of data and use remaining 25% as test data)"
   ]
  },
  {
   "cell_type": "code",
   "execution_count": 82,
   "id": "d3139f39-8ae3-4bc0-b435-904db9d325a0",
=======
   "execution_count": 13,
   "id": "2834c476-1eba-44d3-9c59-762b34ee5407",
>>>>>>> master
   "metadata": {},
   "outputs": [],
   "source": [
    "training_startdate = pd.to_datetime(\"2016-06-08\").date()\n",
    "training_enddate = pd.to_datetime( \"2020-09-08\").date()\n",
    "\n",
    "testing_startdate = pd.to_datetime(\"2020-09-09\").date()\n",
    "testing_enddate = pd.to_datetime( \"2022-02-08\").date()\n"
   ]
  },
  {
   "cell_type": "markdown",
   "id": "ca82d77e-b203-42d1-a715-e05ce655e66e",
   "metadata": {},
   "source": [
    "### Ethereum train/test periods"
   ]
  },
  {
   "cell_type": "code",
<<<<<<< HEAD
   "execution_count": 83,
   "id": "dbc544b4-daa5-43a7-81dd-71957d367e3a",
=======
   "execution_count": 14,
   "id": "64cba144-988a-4ba8-b4da-acfe25ad8a11",
>>>>>>> master
   "metadata": {},
   "outputs": [],
   "source": [
    "#Create Ethereum training and testing period\n",
    "\n",
    "eth_training_dates = eth_prices_df.loc[training_startdate:testing_enddate]\n",
    "\n",
    "eth_testing_dates = eth_prices_df.loc[testing_startdate:testing_enddate]"
   ]
  },
  {
   "cell_type": "code",
<<<<<<< HEAD
   "execution_count": 84,
   "id": "dd7a4b6d-a039-4ec1-a9fb-ea8525b104b0",
=======
   "execution_count": 15,
   "id": "40d3995b-4f08-4210-b4ce-0e508ad26681",
>>>>>>> master
   "metadata": {},
   "outputs": [
    {
     "data": {
      "text/html": [
       "<div>\n",
       "<style scoped>\n",
       "    .dataframe tbody tr th:only-of-type {\n",
       "        vertical-align: middle;\n",
       "    }\n",
       "\n",
       "    .dataframe tbody tr th {\n",
       "        vertical-align: top;\n",
       "    }\n",
       "\n",
       "    .dataframe thead th {\n",
       "        text-align: right;\n",
       "    }\n",
       "</style>\n",
       "<table border=\"1\" class=\"dataframe\">\n",
       "  <thead>\n",
       "    <tr style=\"text-align: right;\">\n",
       "      <th></th>\n",
       "      <th>open</th>\n",
       "      <th>high</th>\n",
       "      <th>low</th>\n",
       "      <th>close</th>\n",
       "      <th>volume</th>\n",
       "    </tr>\n",
       "  </thead>\n",
       "  <tbody>\n",
       "    <tr>\n",
       "      <th>2016-06-08</th>\n",
       "      <td>14.64</td>\n",
       "      <td>14.80</td>\n",
       "      <td>14.40</td>\n",
       "      <td>14.64</td>\n",
       "      <td>6849.865353</td>\n",
       "    </tr>\n",
       "    <tr>\n",
       "      <th>2016-06-09</th>\n",
       "      <td>14.61</td>\n",
       "      <td>14.74</td>\n",
       "      <td>14.52</td>\n",
       "      <td>14.67</td>\n",
       "      <td>2021.553794</td>\n",
       "    </tr>\n",
       "    <tr>\n",
       "      <th>2016-06-10</th>\n",
       "      <td>13.93</td>\n",
       "      <td>14.11</td>\n",
       "      <td>13.86</td>\n",
       "      <td>14.03</td>\n",
       "      <td>1585.286563</td>\n",
       "    </tr>\n",
       "    <tr>\n",
       "      <th>2016-06-11</th>\n",
       "      <td>14.14</td>\n",
       "      <td>14.59</td>\n",
       "      <td>13.92</td>\n",
       "      <td>14.53</td>\n",
       "      <td>3639.141808</td>\n",
       "    </tr>\n",
       "    <tr>\n",
       "      <th>2016-06-12</th>\n",
       "      <td>14.52</td>\n",
       "      <td>15.91</td>\n",
       "      <td>14.28</td>\n",
       "      <td>15.58</td>\n",
       "      <td>16706.624131</td>\n",
       "    </tr>\n",
       "  </tbody>\n",
       "</table>\n",
       "</div>"
      ],
      "text/plain": [
       "             open   high    low  close        volume\n",
       "2016-06-08  14.64  14.80  14.40  14.64   6849.865353\n",
       "2016-06-09  14.61  14.74  14.52  14.67   2021.553794\n",
       "2016-06-10  13.93  14.11  13.86  14.03   1585.286563\n",
       "2016-06-11  14.14  14.59  13.92  14.53   3639.141808\n",
       "2016-06-12  14.52  15.91  14.28  15.58  16706.624131"
      ]
     },
     "metadata": {},
     "output_type": "display_data"
    },
    {
     "data": {
      "text/html": [
       "<div>\n",
       "<style scoped>\n",
       "    .dataframe tbody tr th:only-of-type {\n",
       "        vertical-align: middle;\n",
       "    }\n",
       "\n",
       "    .dataframe tbody tr th {\n",
       "        vertical-align: top;\n",
       "    }\n",
       "\n",
       "    .dataframe thead th {\n",
       "        text-align: right;\n",
       "    }\n",
       "</style>\n",
       "<table border=\"1\" class=\"dataframe\">\n",
       "  <thead>\n",
       "    <tr style=\"text-align: right;\">\n",
       "      <th></th>\n",
       "      <th>open</th>\n",
       "      <th>high</th>\n",
       "      <th>low</th>\n",
       "      <th>close</th>\n",
       "      <th>volume</th>\n",
       "    </tr>\n",
       "  </thead>\n",
       "  <tbody>\n",
       "    <tr>\n",
       "      <th>2020-09-09</th>\n",
       "      <td>351.11</td>\n",
       "      <td>375.74</td>\n",
       "      <td>350.23</td>\n",
       "      <td>373.13</td>\n",
       "      <td>73136.321257</td>\n",
       "    </tr>\n",
       "    <tr>\n",
       "      <th>2020-09-10</th>\n",
       "      <td>373.22</td>\n",
       "      <td>377.79</td>\n",
       "      <td>360.23</td>\n",
       "      <td>368.06</td>\n",
       "      <td>142426.009731</td>\n",
       "    </tr>\n",
       "    <tr>\n",
       "      <th>2020-09-11</th>\n",
       "      <td>373.93</td>\n",
       "      <td>374.64</td>\n",
       "      <td>367.71</td>\n",
       "      <td>370.96</td>\n",
       "      <td>22302.689108</td>\n",
       "    </tr>\n",
       "    <tr>\n",
       "      <th>2020-09-12</th>\n",
       "      <td>387.82</td>\n",
       "      <td>390.41</td>\n",
       "      <td>382.47</td>\n",
       "      <td>386.43</td>\n",
       "      <td>30038.800648</td>\n",
       "    </tr>\n",
       "    <tr>\n",
       "      <th>2020-09-13</th>\n",
       "      <td>366.58</td>\n",
       "      <td>367.84</td>\n",
       "      <td>355.66</td>\n",
       "      <td>364.56</td>\n",
       "      <td>30864.312023</td>\n",
       "    </tr>\n",
       "  </tbody>\n",
       "</table>\n",
       "</div>"
      ],
      "text/plain": [
       "              open    high     low   close         volume\n",
       "2020-09-09  351.11  375.74  350.23  373.13   73136.321257\n",
       "2020-09-10  373.22  377.79  360.23  368.06  142426.009731\n",
       "2020-09-11  373.93  374.64  367.71  370.96   22302.689108\n",
       "2020-09-12  387.82  390.41  382.47  386.43   30038.800648\n",
       "2020-09-13  366.58  367.84  355.66  364.56   30864.312023"
      ]
     },
     "metadata": {},
     "output_type": "display_data"
    }
   ],
   "source": [
    "display(eth_training_dates.head())\n",
    "display(eth_testing_dates.head())"
   ]
  },
  {
   "cell_type": "markdown",
   "id": "423a4295-4715-4383-8e96-9e4037cd6334",
   "metadata": {},
   "source": [
    "### Bitcoin train/test periods"
   ]
  },
  {
   "cell_type": "code",
   "execution_count": 85,
   "id": "e751cef0-b370-4d65-938d-72639fc077df",
   "metadata": {},
   "outputs": [],
   "source": [
    "#Create Bitcoin training and testing period\n",
    "\n",
    "btc_training_dates = btc_prices_df.loc[training_startdate:testing_enddate]\n",
    "\n",
    "btc_testing_dates = btc_prices_df.loc[testing_startdate:testing_enddate]"
   ]
  },
  {
   "cell_type": "code",
   "execution_count": 86,
   "id": "8da8d974-fac1-43e8-b1b8-8b62df015200",
   "metadata": {},
   "outputs": [
    {
     "data": {
      "text/html": [
       "<div>\n",
       "<style scoped>\n",
       "    .dataframe tbody tr th:only-of-type {\n",
       "        vertical-align: middle;\n",
       "    }\n",
       "\n",
       "    .dataframe tbody tr th {\n",
       "        vertical-align: top;\n",
       "    }\n",
       "\n",
       "    .dataframe thead th {\n",
       "        text-align: right;\n",
       "    }\n",
       "</style>\n",
       "<table border=\"1\" class=\"dataframe\">\n",
       "  <thead>\n",
       "    <tr style=\"text-align: right;\">\n",
       "      <th></th>\n",
       "      <th>open</th>\n",
       "      <th>high</th>\n",
       "      <th>low</th>\n",
       "      <th>close</th>\n",
       "      <th>volume</th>\n",
       "    </tr>\n",
       "  </thead>\n",
       "  <tbody>\n",
       "    <tr>\n",
       "      <th>2016-06-08</th>\n",
       "      <td>583.19</td>\n",
       "      <td>583.48</td>\n",
       "      <td>579.04</td>\n",
       "      <td>581.40</td>\n",
       "      <td>1005.394407</td>\n",
       "    </tr>\n",
       "    <tr>\n",
       "      <th>2016-06-09</th>\n",
       "      <td>581.40</td>\n",
       "      <td>582.06</td>\n",
       "      <td>574.00</td>\n",
       "      <td>577.46</td>\n",
       "      <td>3909.795967</td>\n",
       "    </tr>\n",
       "    <tr>\n",
       "      <th>2016-06-10</th>\n",
       "      <td>580.31</td>\n",
       "      <td>586.12</td>\n",
       "      <td>580.31</td>\n",
       "      <td>585.70</td>\n",
       "      <td>1328.264354</td>\n",
       "    </tr>\n",
       "    <tr>\n",
       "      <th>2016-06-11</th>\n",
       "      <td>609.50</td>\n",
       "      <td>639.00</td>\n",
       "      <td>605.00</td>\n",
       "      <td>637.00</td>\n",
       "      <td>4544.269990</td>\n",
       "    </tr>\n",
       "    <tr>\n",
       "      <th>2016-06-12</th>\n",
       "      <td>637.00</td>\n",
       "      <td>687.71</td>\n",
       "      <td>625.79</td>\n",
       "      <td>677.86</td>\n",
       "      <td>13388.552021</td>\n",
       "    </tr>\n",
       "  </tbody>\n",
       "</table>\n",
       "</div>"
      ],
      "text/plain": [
       "              open    high     low   close        volume\n",
       "2016-06-08  583.19  583.48  579.04  581.40   1005.394407\n",
       "2016-06-09  581.40  582.06  574.00  577.46   3909.795967\n",
       "2016-06-10  580.31  586.12  580.31  585.70   1328.264354\n",
       "2016-06-11  609.50  639.00  605.00  637.00   4544.269990\n",
       "2016-06-12  637.00  687.71  625.79  677.86  13388.552021"
      ]
     },
     "metadata": {},
     "output_type": "display_data"
    },
    {
     "data": {
      "text/html": [
       "<div>\n",
       "<style scoped>\n",
       "    .dataframe tbody tr th:only-of-type {\n",
       "        vertical-align: middle;\n",
       "    }\n",
       "\n",
       "    .dataframe tbody tr th {\n",
       "        vertical-align: top;\n",
       "    }\n",
       "\n",
       "    .dataframe thead th {\n",
       "        text-align: right;\n",
       "    }\n",
       "</style>\n",
       "<table border=\"1\" class=\"dataframe\">\n",
       "  <thead>\n",
       "    <tr style=\"text-align: right;\">\n",
       "      <th></th>\n",
       "      <th>open</th>\n",
       "      <th>high</th>\n",
       "      <th>low</th>\n",
       "      <th>close</th>\n",
       "      <th>volume</th>\n",
       "    </tr>\n",
       "  </thead>\n",
       "  <tbody>\n",
       "    <tr>\n",
       "      <th>2020-09-09</th>\n",
       "      <td>10076.82</td>\n",
       "      <td>10349.99</td>\n",
       "      <td>10060.89</td>\n",
       "      <td>10224.56</td>\n",
       "      <td>7827.280625</td>\n",
       "    </tr>\n",
       "    <tr>\n",
       "      <th>2020-09-10</th>\n",
       "      <td>10387.43</td>\n",
       "      <td>10489.00</td>\n",
       "      <td>10239.03</td>\n",
       "      <td>10343.23</td>\n",
       "      <td>9089.743268</td>\n",
       "    </tr>\n",
       "    <tr>\n",
       "      <th>2020-09-11</th>\n",
       "      <td>10394.41</td>\n",
       "      <td>10400.00</td>\n",
       "      <td>10328.00</td>\n",
       "      <td>10363.76</td>\n",
       "      <td>1297.194483</td>\n",
       "    </tr>\n",
       "    <tr>\n",
       "      <th>2020-09-12</th>\n",
       "      <td>10363.94</td>\n",
       "      <td>10483.23</td>\n",
       "      <td>10276.19</td>\n",
       "      <td>10446.52</td>\n",
       "      <td>5197.634065</td>\n",
       "    </tr>\n",
       "    <tr>\n",
       "      <th>2020-09-13</th>\n",
       "      <td>10336.76</td>\n",
       "      <td>10375.00</td>\n",
       "      <td>10253.00</td>\n",
       "      <td>10349.29</td>\n",
       "      <td>1738.966460</td>\n",
       "    </tr>\n",
       "  </tbody>\n",
       "</table>\n",
       "</div>"
      ],
      "text/plain": [
       "                open      high       low     close       volume\n",
       "2020-09-09  10076.82  10349.99  10060.89  10224.56  7827.280625\n",
       "2020-09-10  10387.43  10489.00  10239.03  10343.23  9089.743268\n",
       "2020-09-11  10394.41  10400.00  10328.00  10363.76  1297.194483\n",
       "2020-09-12  10363.94  10483.23  10276.19  10446.52  5197.634065\n",
       "2020-09-13  10336.76  10375.00  10253.00  10349.29  1738.966460"
      ]
     },
     "metadata": {},
     "output_type": "display_data"
    }
   ],
   "source": [
    "display(btc_training_dates.head())\n",
    "display(btc_testing_dates.head())"
   ]
  },
  {
   "cell_type": "markdown",
   "id": "f575f6f5-a850-44bc-b855-c8ee6d78e04c",
   "metadata": {},
   "source": [
    "### Use lines of code below to help with your strategy"
   ]
  },
  {
   "cell_type": "code",
   "execution_count": 87,
   "id": "2834c476-1eba-44d3-9c59-762b34ee5407",
   "metadata": {},
   "outputs": [],
   "source": [
    "# Calculate the daily returns using the closing prices and the pct_change function\n",
    "\n",
    "#btc_data_df[\"actual returns\"] = btc_data_df[\"close\"].pct_change()\n"
   ]
  },
  {
   "cell_type": "code",
   "execution_count": 88,
   "id": "4e191fd6-70ff-4b6e-81e2-be1a3346e450",
   "metadata": {},
   "outputs": [],
   "source": [
    "# Create a new column in the btc_data_df called signal setting its value to zero.\n",
    "\n",
    "#btc_data_df['signal'] = 0.0"
   ]
  },
  {
   "cell_type": "code",
   "execution_count": 89,
   "id": "d8c6e8ad-8bf9-47d5-adf0-1e61668a1763",
   "metadata": {},
   "outputs": [],
   "source": [
    "#finta library required to use the functions below\n",
    "\n",
    "#btc_prices_df['sma50'] = TA.SMA(btc_prices_df, 50)\n",
    "#btc_prices_df['sma200'] = TA.SMA(btc_prices_df, 200)\n",
    "#btc_prices_df[\"ssma\"] = TA.SSMA(btc_prices_df) #Smoothed Moving Average\n",
    "#btc_prices_df[\"ema50\"] = TA.EMA(btc_prices_df, 50) #Exponential Moving Average\n",
    "#btc_prices_df[\"ema200\"] = TA.EMA(btc_prices_df, 200) #Exponential Moving Average\n",
    "#btc_prices_df[\"dema\"] = TA.DEMA(btc_prices_df) #Double Exponential Moving Average\n",
    "#btc_prices_df[\"bbands\"] = TA.BBANDS(btc_prices_df) #Bollinger Bands(needs more perameters than what is shown in this line)\n",
    "#btc_prices_df[\"RSI\"] = TA.RSI(btc_prices_df) #Relative Strength index\n",
    "\n",
    "# Drop all NaN values from the DataFrame\n",
    "#btc_prices_df = btc_prices_df.dropna()\n"
   ]
  },
  {
   "cell_type": "code",
   "execution_count": 90,
   "id": "9ccfa617-4e60-49af-a814-e67d4926798f",
   "metadata": {},
   "outputs": [],
   "source": [
    "# Create a new column in the eth_data_df called signal setting its value to zero.\n",
    "\n",
    "#eth_data_df['signal'] = 0.0"
   ]
  },
  {
   "cell_type": "code",
   "execution_count": 91,
   "id": "e62e5e75-b808-440f-b6cb-26d3789a42a3",
   "metadata": {},
   "outputs": [],
   "source": [
    "#eth_prices_df['sma50'] = TA.SMA(eth_prices_df, 50)\n",
    "#eth_prices_df['sma200'] = TA.SMA(eth_prices_df, 200)\n",
    "#eth_prices_df[\"ssma\"] = TA.SSMA(eth_prices_df) #Smoothed Moving Average\n",
    "#eth_prices_df[\"ema50\"] = TA.EMA(eth_prices_df, 50) #Exponential Moving Average\n",
    "#eth_prices_df[\"ema200\"] = TA.EMA(eth_prices_df, 200) #Exponential Moving Average\n",
    "#eth_prices_df[\"dema\"] = TA.DEMA(eth_prices_df) #Double Exponential Moving Average\n",
    "#eth_prices_df[\"bbands\"] = TA.BBANDS(eth_prices_df) #Bollinger Bands(needs more perameters than what is shown in this line)\n",
    "#eth_prices_df[\"RSI\"] = TA.RSI(eth_prices_df) #Relative Strength index\n",
    "\n",
    "# Drop all NaN values from the DataFrame\n",
    "#eth_prices_df = eth_prices_df.dropna()\n"
   ]
  },
  {
   "cell_type": "code",
   "execution_count": null,
<<<<<<< HEAD
   "id": "e0ecbc25-32b0-463c-bf26-ad54bdad7b65",
   "metadata": {},
   "outputs": [],
   "source": []
  },
  {
   "cell_type": "code",
   "execution_count": null,
   "id": "de0ec47e-46e9-4e3a-85cd-1bda6192771e",
   "metadata": {},
   "outputs": [],
   "source": []
  },
  {
   "cell_type": "code",
   "execution_count": 92,
   "id": "dde51282-177c-4f8b-9955-db892baafcba",
   "metadata": {},
   "outputs": [],
   "source": [
    "# Calculate the daily returns using the closing prices and the pct_change function\n",
    "\n",
    "#eth_data_df[\"actual returns\"] = eth_data_df[\"close\"].pct_change()\n",
    "\n",
    "# Drop all NaN values from the DataFrame\n",
    "#eth_data_df = eth_data_df.dropna()"
   ]
  },
  {
   "cell_type": "code",
   "execution_count": null,
   "id": "8d59f4cb-fb3f-4fa0-99f8-f26d1ebaac04",
   "metadata": {},
   "outputs": [],
   "source": []
  },
  {
   "cell_type": "code",
   "execution_count": null,
   "id": "3fdd6fe9-6648-4791-8950-faa936d66947",
   "metadata": {},
   "outputs": [],
   "source": []
  },
  {
   "cell_type": "code",
   "execution_count": null,
   "id": "4a1036f5-0860-40f7-a8c1-b33e0f752eaa",
   "metadata": {},
   "outputs": [],
   "source": []
  },
  {
   "cell_type": "code",
   "execution_count": null,
   "id": "d5bd0f07-0ec2-432b-b0b8-df2a73278113",
   "metadata": {},
   "outputs": [],
   "source": []
  },
  {
   "cell_type": "code",
   "execution_count": null,
   "id": "7d0e97d5-1699-49cd-ae43-0f886f79a7f5",
   "metadata": {},
   "outputs": [],
   "source": []
  },
  {
   "cell_type": "code",
   "execution_count": null,
   "id": "553d3a3e-5cc0-4115-866c-fdd64fc1257b",
   "metadata": {},
   "outputs": [],
   "source": []
  },
  {
   "cell_type": "code",
   "execution_count": null,
   "id": "6f854a12-c60a-410a-9be2-7b0ae90e97c7",
=======
   "id": "eed51792-4a06-4567-bd41-a0a1dc7ac745",
>>>>>>> master
   "metadata": {},
   "outputs": [],
   "source": []
  }
 ],
 "metadata": {
  "kernelspec": {
   "display_name": "Python 3",
   "language": "python",
   "name": "python3"
  },
  "language_info": {
   "codemirror_mode": {
    "name": "ipython",
    "version": 3
   },
   "file_extension": ".py",
   "mimetype": "text/x-python",
   "name": "python",
   "nbconvert_exporter": "python",
   "pygments_lexer": "ipython3",
   "version": "3.8.8"
  }
 },
 "nbformat": 4,
 "nbformat_minor": 5
}
